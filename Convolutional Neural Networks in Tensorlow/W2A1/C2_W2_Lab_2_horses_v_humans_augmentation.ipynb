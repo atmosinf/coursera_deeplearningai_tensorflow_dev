{
  "nbformat": 4,
  "nbformat_minor": 0,
  "metadata": {
    "accelerator": "GPU",
    "colab": {
      "name": "C2_W2_Lab_2_horses_v_humans_augmentation.ipynb",
      "provenance": [],
      "collapsed_sections": [],
      "toc_visible": true
    },
    "kernelspec": {
      "display_name": "Python 3",
      "language": "python",
      "name": "python3"
    },
    "language_info": {
      "codemirror_mode": {
        "name": "ipython",
        "version": 3
      },
      "file_extension": ".py",
      "mimetype": "text/x-python",
      "name": "python",
      "nbconvert_exporter": "python",
      "pygments_lexer": "ipython3",
      "version": "3.8.5"
    }
  },
  "cells": [
    {
      "cell_type": "markdown",
      "metadata": {
        "id": "rX8mhOLljYeM"
      },
      "source": [
        "##### Copyright 2019 The TensorFlow Authors."
      ]
    },
    {
      "cell_type": "code",
      "metadata": {
        "cellView": "form",
        "id": "BZSlp3DAjdYf"
      },
      "source": [
        "#@title Licensed under the Apache License, Version 2.0 (the \"License\");\n",
        "# you may not use this file except in compliance with the License.\n",
        "# You may obtain a copy of the License at\n",
        "#\n",
        "# https://www.apache.org/licenses/LICENSE-2.0\n",
        "#\n",
        "# Unless required by applicable law or agreed to in writing, software\n",
        "# distributed under the License is distributed on an \"AS IS\" BASIS,\n",
        "# WITHOUT WARRANTIES OR CONDITIONS OF ANY KIND, either express or implied.\n",
        "# See the License for the specific language governing permissions and\n",
        "# limitations under the License."
      ],
      "execution_count": 1,
      "outputs": []
    },
    {
      "cell_type": "code",
      "metadata": {
        "id": "RXZT2UsyIVe_",
        "outputId": "e5396de3-8d4f-4382-fec6-c34a843f8891",
        "colab": {
          "base_uri": "https://localhost:8080/"
        }
      },
      "source": [
        "# horses-or-humans dataset\n",
        "!gdown --id 1onaG42NZft3wCE1WH0GDEbUhu75fedP5\n",
        "\n",
        "# horses-or-humans validation dataset\n",
        "!gdown --id 1LYeusSEIiZQpwN-mthh5nKdA75VsKG1U\n",
        "  \n",
        "import os\n",
        "import zipfile\n",
        "\n",
        "zip_ref = zipfile.ZipFile('./horse-or-human.zip', 'r')\n",
        "zip_ref.extractall('tmp/horse-or-human')\n",
        "\n",
        "zip_ref = zipfile.ZipFile('./validation-horse-or-human.zip', 'r')\n",
        "zip_ref.extractall('tmp/validation-horse-or-human')\n",
        "\n",
        "zip_ref.close()\n",
        "\n",
        "# Directory with our training horse pictures\n",
        "train_horse_dir = os.path.join('tmp/horse-or-human/horses')\n",
        "\n",
        "# Directory with our training human pictures\n",
        "train_human_dir = os.path.join('tmp/horse-or-human/humans')\n",
        "\n",
        "# Directory with our training horse pictures\n",
        "validation_horse_dir = os.path.join('tmp/validation-horse-or-human/horses')\n",
        "\n",
        "# Directory with our training human pictures\n",
        "validation_human_dir = os.path.join('tmp/validation-horse-or-human/humans')"
      ],
      "execution_count": 2,
      "outputs": [
        {
          "output_type": "stream",
          "name": "stdout",
          "text": [
            "Downloading...\n",
            "From: https://drive.google.com/uc?id=1onaG42NZft3wCE1WH0GDEbUhu75fedP5\n",
            "To: /content/horse-or-human.zip\n",
            "150MB [00:00, 163MB/s]\n",
            "Downloading...\n",
            "From: https://drive.google.com/uc?id=1LYeusSEIiZQpwN-mthh5nKdA75VsKG1U\n",
            "To: /content/validation-horse-or-human.zip\n",
            "11.5MB [00:00, 70.2MB/s]\n"
          ]
        }
      ]
    },
    {
      "cell_type": "markdown",
      "metadata": {
        "id": "5oqBkNBJmtUv"
      },
      "source": [
        "## Building a Small Model from Scratch\n",
        "\n",
        "But before we continue, let's start defining the model:\n",
        "\n",
        "Step 1 will be to import tensorflow."
      ]
    },
    {
      "cell_type": "code",
      "metadata": {
        "id": "qvfZg3LQbD-5"
      },
      "source": [
        "import tensorflow as tf"
      ],
      "execution_count": 3,
      "outputs": []
    },
    {
      "cell_type": "markdown",
      "metadata": {
        "id": "BnhYCP4tdqjC"
      },
      "source": [
        "We then add convolutional layers as in the previous example, and flatten the final result to feed into the densely connected layers."
      ]
    },
    {
      "cell_type": "markdown",
      "metadata": {
        "id": "gokG5HKpdtzm"
      },
      "source": [
        "Finally we add the densely connected layers. \n",
        "\n",
        "Note that because we are facing a two-class classification problem, i.e. a *binary classification problem*, we will end our network with a [*sigmoid* activation](https://wikipedia.org/wiki/Sigmoid_function), so that the output of our network will be a single scalar between 0 and 1, encoding the probability that the current image is class 1 (as opposed to class 0)."
      ]
    },
    {
      "cell_type": "code",
      "metadata": {
        "id": "PixZ2s5QbYQ3"
      },
      "source": [
        "model = tf.keras.models.Sequential([\n",
        "    # Note the input shape is the desired size of the image 300x300 with 3 bytes color\n",
        "    # This is the first convolution\n",
        "    tf.keras.layers.Conv2D(16, (3,3), activation='relu', input_shape=(300, 300, 3)),\n",
        "    tf.keras.layers.MaxPooling2D(2, 2),\n",
        "    # The second convolution\n",
        "    tf.keras.layers.Conv2D(32, (3,3), activation='relu'),\n",
        "    tf.keras.layers.MaxPooling2D(2,2),\n",
        "    # The third convolution\n",
        "    tf.keras.layers.Conv2D(64, (3,3), activation='relu'),\n",
        "    tf.keras.layers.MaxPooling2D(2,2),\n",
        "    # The fourth convolution\n",
        "    tf.keras.layers.Conv2D(64, (3,3), activation='relu'),\n",
        "    tf.keras.layers.MaxPooling2D(2,2),\n",
        "    # The fifth convolution\n",
        "    tf.keras.layers.Conv2D(64, (3,3), activation='relu'),\n",
        "    tf.keras.layers.MaxPooling2D(2,2),\n",
        "    # Flatten the results to feed into a DNN\n",
        "    tf.keras.layers.Flatten(),\n",
        "    # 512 neuron hidden layer\n",
        "    tf.keras.layers.Dense(512, activation='relu'),\n",
        "    # Only 1 output neuron. It will contain a value from 0-1 where 0 for 1 class ('horses') and 1 for the other ('humans')\n",
        "    tf.keras.layers.Dense(1, activation='sigmoid')\n",
        "])"
      ],
      "execution_count": 4,
      "outputs": []
    },
    {
      "cell_type": "code",
      "metadata": {
        "id": "8DHWhFP_uhq3"
      },
      "source": [
        "from tensorflow.keras.optimizers import RMSprop\n",
        "\n",
        "model.compile(loss='binary_crossentropy',\n",
        "              optimizer=RMSprop(learning_rate=1e-4),\n",
        "              metrics=['accuracy'])"
      ],
      "execution_count": 5,
      "outputs": []
    },
    {
      "cell_type": "code",
      "metadata": {
        "id": "ClebU9NJg99G",
        "outputId": "c14ff409-fd16-46db-f6de-269c34778f72",
        "colab": {
          "base_uri": "https://localhost:8080/"
        }
      },
      "source": [
        "from tensorflow.keras.preprocessing.image import ImageDataGenerator\n",
        "\n",
        "# All images will be rescaled by 1./255\n",
        "train_datagen = ImageDataGenerator(\n",
        "      rescale=1./255,\n",
        "      rotation_range=40,\n",
        "      width_shift_range=0.2,\n",
        "      height_shift_range=0.2,\n",
        "      shear_range=0.2,\n",
        "      zoom_range=0.2,\n",
        "      horizontal_flip=True,\n",
        "      fill_mode='nearest')\n",
        "\n",
        "validation_datagen = ImageDataGenerator(rescale=1/255)\n",
        "\n",
        "# Flow training images in batches of 128 using train_datagen generator\n",
        "train_generator = train_datagen.flow_from_directory(\n",
        "        'tmp/horse-or-human/',  # This is the source directory for training images\n",
        "        target_size=(300, 300),  # All images will be resized to 150x150\n",
        "        batch_size=128,\n",
        "        # Since we use binary_crossentropy loss, we need binary labels\n",
        "        class_mode='binary')\n",
        "\n",
        "# Flow training images in batches of 128 using train_datagen generator\n",
        "validation_generator = validation_datagen.flow_from_directory(\n",
        "        'tmp/validation-horse-or-human/',  # This is the source directory for training images\n",
        "        target_size=(300, 300),  # All images will be resized to 150x150\n",
        "        batch_size=32,\n",
        "        # Since we use binary_crossentropy loss, we need binary labels\n",
        "        class_mode='binary')"
      ],
      "execution_count": 6,
      "outputs": [
        {
          "output_type": "stream",
          "name": "stdout",
          "text": [
            "Found 1027 images belonging to 2 classes.\n",
            "Found 256 images belonging to 2 classes.\n"
          ]
        }
      ]
    },
    {
      "cell_type": "code",
      "metadata": {
        "id": "Fb1_lgobv81m",
        "outputId": "39bba6c9-3502-4463-d201-a9854b34c341",
        "colab": {
          "base_uri": "https://localhost:8080/"
        }
      },
      "source": [
        "history = model.fit(\n",
        "      train_generator,\n",
        "      steps_per_epoch=8,  \n",
        "      epochs=100,\n",
        "      verbose=1,\n",
        "      validation_data = validation_generator,\n",
        "      validation_steps=8)"
      ],
      "execution_count": 7,
      "outputs": [
        {
          "output_type": "stream",
          "name": "stdout",
          "text": [
            "Epoch 1/100\n",
            "8/8 [==============================] - 57s 3s/step - loss: 0.6858 - accuracy: 0.5184 - val_loss: 0.6775 - val_accuracy: 0.5000\n",
            "Epoch 2/100\n",
            "8/8 [==============================] - 24s 3s/step - loss: 0.6757 - accuracy: 0.5962 - val_loss: 0.6238 - val_accuracy: 0.8438\n",
            "Epoch 3/100\n",
            "8/8 [==============================] - 26s 3s/step - loss: 0.6651 - accuracy: 0.6523 - val_loss: 0.6208 - val_accuracy: 0.5586\n",
            "Epoch 4/100\n",
            "8/8 [==============================] - 24s 3s/step - loss: 0.6647 - accuracy: 0.6507 - val_loss: 0.5717 - val_accuracy: 0.7812\n",
            "Epoch 5/100\n",
            "8/8 [==============================] - 24s 3s/step - loss: 0.6528 - accuracy: 0.6952 - val_loss: 0.5289 - val_accuracy: 0.8398\n",
            "Epoch 6/100\n",
            "8/8 [==============================] - 24s 3s/step - loss: 0.6333 - accuracy: 0.6863 - val_loss: 0.5216 - val_accuracy: 0.7656\n",
            "Epoch 7/100\n",
            "8/8 [==============================] - 24s 3s/step - loss: 0.6679 - accuracy: 0.6741 - val_loss: 0.5613 - val_accuracy: 0.6406\n",
            "Epoch 8/100\n",
            "8/8 [==============================] - 24s 3s/step - loss: 0.6148 - accuracy: 0.6997 - val_loss: 0.5491 - val_accuracy: 0.6641\n",
            "Epoch 9/100\n",
            "8/8 [==============================] - 24s 3s/step - loss: 0.5755 - accuracy: 0.7575 - val_loss: 0.6215 - val_accuracy: 0.6094\n",
            "Epoch 10/100\n",
            "8/8 [==============================] - 24s 3s/step - loss: 0.5456 - accuracy: 0.7642 - val_loss: 0.6488 - val_accuracy: 0.6289\n",
            "Epoch 11/100\n",
            "8/8 [==============================] - 24s 3s/step - loss: 0.5278 - accuracy: 0.7430 - val_loss: 0.6473 - val_accuracy: 0.6445\n",
            "Epoch 12/100\n",
            "8/8 [==============================] - 24s 3s/step - loss: 0.4834 - accuracy: 0.7786 - val_loss: 0.5372 - val_accuracy: 0.7500\n",
            "Epoch 13/100\n",
            "8/8 [==============================] - 25s 3s/step - loss: 0.5006 - accuracy: 0.7531 - val_loss: 0.8891 - val_accuracy: 0.6094\n",
            "Epoch 14/100\n",
            "8/8 [==============================] - 24s 3s/step - loss: 0.4765 - accuracy: 0.7809 - val_loss: 0.9002 - val_accuracy: 0.6133\n",
            "Epoch 15/100\n",
            "8/8 [==============================] - 24s 3s/step - loss: 0.5112 - accuracy: 0.7297 - val_loss: 0.9433 - val_accuracy: 0.6094\n",
            "Epoch 16/100\n",
            "8/8 [==============================] - 24s 3s/step - loss: 0.4620 - accuracy: 0.7842 - val_loss: 0.9170 - val_accuracy: 0.6367\n",
            "Epoch 17/100\n",
            "8/8 [==============================] - 24s 3s/step - loss: 0.4450 - accuracy: 0.8009 - val_loss: 0.8281 - val_accuracy: 0.6797\n",
            "Epoch 18/100\n",
            "8/8 [==============================] - 24s 3s/step - loss: 0.4542 - accuracy: 0.7809 - val_loss: 1.3024 - val_accuracy: 0.5742\n",
            "Epoch 19/100\n",
            "8/8 [==============================] - 24s 3s/step - loss: 0.4795 - accuracy: 0.7831 - val_loss: 0.7300 - val_accuracy: 0.7227\n",
            "Epoch 20/100\n",
            "8/8 [==============================] - 24s 3s/step - loss: 0.3853 - accuracy: 0.8343 - val_loss: 0.5715 - val_accuracy: 0.8008\n",
            "Epoch 21/100\n",
            "8/8 [==============================] - 24s 3s/step - loss: 0.4042 - accuracy: 0.8142 - val_loss: 0.7721 - val_accuracy: 0.7383\n",
            "Epoch 22/100\n",
            "8/8 [==============================] - 24s 3s/step - loss: 0.4240 - accuracy: 0.8053 - val_loss: 1.3455 - val_accuracy: 0.6055\n",
            "Epoch 23/100\n",
            "8/8 [==============================] - 24s 3s/step - loss: 0.4674 - accuracy: 0.7864 - val_loss: 1.1888 - val_accuracy: 0.6406\n",
            "Epoch 24/100\n",
            "8/8 [==============================] - 24s 3s/step - loss: 0.3589 - accuracy: 0.8432 - val_loss: 0.9134 - val_accuracy: 0.7070\n",
            "Epoch 25/100\n",
            "8/8 [==============================] - 26s 3s/step - loss: 0.3763 - accuracy: 0.8340 - val_loss: 1.2785 - val_accuracy: 0.6602\n",
            "Epoch 26/100\n",
            "8/8 [==============================] - 24s 3s/step - loss: 0.3603 - accuracy: 0.8521 - val_loss: 0.7492 - val_accuracy: 0.7539\n",
            "Epoch 27/100\n",
            "8/8 [==============================] - 24s 3s/step - loss: 0.3723 - accuracy: 0.8365 - val_loss: 1.1131 - val_accuracy: 0.6875\n",
            "Epoch 28/100\n",
            "8/8 [==============================] - 24s 3s/step - loss: 0.3344 - accuracy: 0.8443 - val_loss: 2.0989 - val_accuracy: 0.5664\n",
            "Epoch 29/100\n",
            "8/8 [==============================] - 24s 3s/step - loss: 0.4131 - accuracy: 0.8254 - val_loss: 1.1834 - val_accuracy: 0.6836\n",
            "Epoch 30/100\n",
            "8/8 [==============================] - 23s 3s/step - loss: 0.3249 - accuracy: 0.8610 - val_loss: 1.1281 - val_accuracy: 0.7070\n",
            "Epoch 31/100\n",
            "8/8 [==============================] - 23s 3s/step - loss: 0.3361 - accuracy: 0.8532 - val_loss: 0.8587 - val_accuracy: 0.7383\n",
            "Epoch 32/100\n",
            "8/8 [==============================] - 24s 3s/step - loss: 0.3504 - accuracy: 0.8509 - val_loss: 1.5612 - val_accuracy: 0.6445\n",
            "Epoch 33/100\n",
            "8/8 [==============================] - 24s 3s/step - loss: 0.3286 - accuracy: 0.8676 - val_loss: 1.2284 - val_accuracy: 0.6914\n",
            "Epoch 34/100\n",
            "8/8 [==============================] - 24s 3s/step - loss: 0.3022 - accuracy: 0.8732 - val_loss: 0.2994 - val_accuracy: 0.8945\n",
            "Epoch 35/100\n",
            "8/8 [==============================] - 24s 3s/step - loss: 0.4166 - accuracy: 0.8309 - val_loss: 1.5727 - val_accuracy: 0.6406\n",
            "Epoch 36/100\n",
            "8/8 [==============================] - 24s 3s/step - loss: 0.2809 - accuracy: 0.8877 - val_loss: 3.4674 - val_accuracy: 0.5156\n",
            "Epoch 37/100\n",
            "8/8 [==============================] - 24s 3s/step - loss: 0.3155 - accuracy: 0.8721 - val_loss: 1.7386 - val_accuracy: 0.6406\n",
            "Epoch 38/100\n",
            "8/8 [==============================] - 24s 3s/step - loss: 0.3373 - accuracy: 0.8654 - val_loss: 1.5573 - val_accuracy: 0.6445\n",
            "Epoch 39/100\n",
            "8/8 [==============================] - 24s 3s/step - loss: 0.2983 - accuracy: 0.8765 - val_loss: 1.7697 - val_accuracy: 0.6211\n",
            "Epoch 40/100\n",
            "8/8 [==============================] - 24s 3s/step - loss: 0.2737 - accuracy: 0.8788 - val_loss: 1.7275 - val_accuracy: 0.6367\n",
            "Epoch 41/100\n",
            "8/8 [==============================] - 24s 3s/step - loss: 0.3212 - accuracy: 0.8554 - val_loss: 1.0817 - val_accuracy: 0.7109\n",
            "Epoch 42/100\n",
            "8/8 [==============================] - 24s 3s/step - loss: 0.2541 - accuracy: 0.9043 - val_loss: 1.5024 - val_accuracy: 0.6836\n",
            "Epoch 43/100\n",
            "8/8 [==============================] - 24s 3s/step - loss: 0.2906 - accuracy: 0.8676 - val_loss: 1.5224 - val_accuracy: 0.6680\n",
            "Epoch 44/100\n",
            "8/8 [==============================] - 23s 3s/step - loss: 0.2270 - accuracy: 0.9077 - val_loss: 0.5858 - val_accuracy: 0.8438\n",
            "Epoch 45/100\n",
            "8/8 [==============================] - 24s 3s/step - loss: 0.3220 - accuracy: 0.8699 - val_loss: 1.8794 - val_accuracy: 0.6367\n",
            "Epoch 46/100\n",
            "8/8 [==============================] - 24s 3s/step - loss: 0.3763 - accuracy: 0.8643 - val_loss: 1.6985 - val_accuracy: 0.6484\n",
            "Epoch 47/100\n",
            "8/8 [==============================] - 24s 3s/step - loss: 0.2108 - accuracy: 0.9188 - val_loss: 2.0832 - val_accuracy: 0.6172\n",
            "Epoch 48/100\n",
            "8/8 [==============================] - 24s 3s/step - loss: 0.2715 - accuracy: 0.8888 - val_loss: 1.3618 - val_accuracy: 0.6953\n",
            "Epoch 49/100\n",
            "8/8 [==============================] - 24s 3s/step - loss: 0.2360 - accuracy: 0.9077 - val_loss: 1.3737 - val_accuracy: 0.7031\n",
            "Epoch 50/100\n",
            "8/8 [==============================] - 24s 3s/step - loss: 0.4001 - accuracy: 0.8409 - val_loss: 1.5359 - val_accuracy: 0.6680\n",
            "Epoch 51/100\n",
            "8/8 [==============================] - 24s 3s/step - loss: 0.1966 - accuracy: 0.9277 - val_loss: 1.3440 - val_accuracy: 0.7188\n",
            "Epoch 52/100\n",
            "8/8 [==============================] - 27s 3s/step - loss: 0.2091 - accuracy: 0.9150 - val_loss: 2.0579 - val_accuracy: 0.6367\n",
            "Epoch 53/100\n",
            "8/8 [==============================] - 24s 3s/step - loss: 0.2700 - accuracy: 0.8910 - val_loss: 1.7654 - val_accuracy: 0.6328\n",
            "Epoch 54/100\n",
            "8/8 [==============================] - 24s 3s/step - loss: 0.2200 - accuracy: 0.9055 - val_loss: 2.0618 - val_accuracy: 0.6367\n",
            "Epoch 55/100\n",
            "8/8 [==============================] - 23s 3s/step - loss: 0.2217 - accuracy: 0.9132 - val_loss: 2.6003 - val_accuracy: 0.5898\n",
            "Epoch 56/100\n",
            "8/8 [==============================] - 24s 3s/step - loss: 0.2477 - accuracy: 0.8943 - val_loss: 1.6818 - val_accuracy: 0.6914\n",
            "Epoch 57/100\n",
            "8/8 [==============================] - 24s 3s/step - loss: 0.2143 - accuracy: 0.9121 - val_loss: 0.9821 - val_accuracy: 0.7500\n",
            "Epoch 58/100\n",
            "8/8 [==============================] - 24s 3s/step - loss: 0.3135 - accuracy: 0.8699 - val_loss: 1.8463 - val_accuracy: 0.6523\n",
            "Epoch 59/100\n",
            "8/8 [==============================] - 24s 3s/step - loss: 0.2295 - accuracy: 0.9066 - val_loss: 1.8506 - val_accuracy: 0.6445\n",
            "Epoch 60/100\n",
            "8/8 [==============================] - 24s 3s/step - loss: 0.1983 - accuracy: 0.9333 - val_loss: 1.8563 - val_accuracy: 0.6445\n",
            "Epoch 61/100\n",
            "8/8 [==============================] - 24s 3s/step - loss: 0.1603 - accuracy: 0.9477 - val_loss: 1.8409 - val_accuracy: 0.6719\n",
            "Epoch 62/100\n",
            "8/8 [==============================] - 24s 3s/step - loss: 0.2418 - accuracy: 0.9110 - val_loss: 3.6757 - val_accuracy: 0.5273\n",
            "Epoch 63/100\n",
            "8/8 [==============================] - 24s 3s/step - loss: 0.2566 - accuracy: 0.8899 - val_loss: 2.2644 - val_accuracy: 0.6328\n",
            "Epoch 64/100\n",
            "8/8 [==============================] - 24s 3s/step - loss: 0.2444 - accuracy: 0.9010 - val_loss: 2.1597 - val_accuracy: 0.6328\n",
            "Epoch 65/100\n",
            "8/8 [==============================] - 24s 3s/step - loss: 0.1860 - accuracy: 0.9344 - val_loss: 1.3942 - val_accuracy: 0.7148\n",
            "Epoch 66/100\n",
            "8/8 [==============================] - 24s 3s/step - loss: 0.1613 - accuracy: 0.9333 - val_loss: 2.3406 - val_accuracy: 0.6562\n",
            "Epoch 67/100\n",
            "8/8 [==============================] - 24s 3s/step - loss: 0.2735 - accuracy: 0.8754 - val_loss: 1.8976 - val_accuracy: 0.6602\n",
            "Epoch 68/100\n",
            "8/8 [==============================] - 23s 3s/step - loss: 0.2281 - accuracy: 0.8977 - val_loss: 2.1758 - val_accuracy: 0.6523\n",
            "Epoch 69/100\n",
            "8/8 [==============================] - 24s 3s/step - loss: 0.1656 - accuracy: 0.9321 - val_loss: 2.5953 - val_accuracy: 0.6172\n",
            "Epoch 70/100\n",
            "8/8 [==============================] - 26s 3s/step - loss: 0.2016 - accuracy: 0.9121 - val_loss: 2.1583 - val_accuracy: 0.6562\n",
            "Epoch 71/100\n",
            "8/8 [==============================] - 24s 3s/step - loss: 0.1917 - accuracy: 0.9255 - val_loss: 1.3336 - val_accuracy: 0.7383\n",
            "Epoch 72/100\n",
            "8/8 [==============================] - 24s 3s/step - loss: 0.2758 - accuracy: 0.8821 - val_loss: 2.0252 - val_accuracy: 0.6562\n",
            "Epoch 73/100\n",
            "8/8 [==============================] - 26s 3s/step - loss: 0.1590 - accuracy: 0.9473 - val_loss: 2.1229 - val_accuracy: 0.6602\n",
            "Epoch 74/100\n",
            "8/8 [==============================] - 23s 3s/step - loss: 0.2296 - accuracy: 0.9032 - val_loss: 2.1645 - val_accuracy: 0.6367\n",
            "Epoch 75/100\n",
            "8/8 [==============================] - 24s 3s/step - loss: 0.1640 - accuracy: 0.9321 - val_loss: 2.2333 - val_accuracy: 0.6562\n",
            "Epoch 76/100\n",
            "8/8 [==============================] - 24s 3s/step - loss: 0.1383 - accuracy: 0.9488 - val_loss: 1.7866 - val_accuracy: 0.6992\n",
            "Epoch 77/100\n",
            "8/8 [==============================] - 23s 3s/step - loss: 0.1922 - accuracy: 0.9177 - val_loss: 2.2371 - val_accuracy: 0.6562\n",
            "Epoch 78/100\n",
            "8/8 [==============================] - 24s 3s/step - loss: 0.2324 - accuracy: 0.9132 - val_loss: 1.4373 - val_accuracy: 0.7227\n",
            "Epoch 79/100\n",
            "8/8 [==============================] - 24s 3s/step - loss: 0.2362 - accuracy: 0.9010 - val_loss: 2.2067 - val_accuracy: 0.6641\n",
            "Epoch 80/100\n",
            "8/8 [==============================] - 24s 3s/step - loss: 0.1528 - accuracy: 0.9355 - val_loss: 1.9287 - val_accuracy: 0.6914\n",
            "Epoch 81/100\n",
            "8/8 [==============================] - 24s 3s/step - loss: 0.2338 - accuracy: 0.9199 - val_loss: 3.7618 - val_accuracy: 0.5781\n",
            "Epoch 82/100\n",
            "8/8 [==============================] - 23s 3s/step - loss: 0.1371 - accuracy: 0.9522 - val_loss: 2.0671 - val_accuracy: 0.6758\n",
            "Epoch 83/100\n",
            "8/8 [==============================] - 23s 3s/step - loss: 0.1418 - accuracy: 0.9433 - val_loss: 1.8600 - val_accuracy: 0.6836\n",
            "Epoch 84/100\n",
            "8/8 [==============================] - 23s 3s/step - loss: 0.1473 - accuracy: 0.9410 - val_loss: 2.2490 - val_accuracy: 0.6641\n",
            "Epoch 85/100\n",
            "8/8 [==============================] - 23s 3s/step - loss: 0.2413 - accuracy: 0.8988 - val_loss: 2.0494 - val_accuracy: 0.6680\n",
            "Epoch 86/100\n",
            "8/8 [==============================] - 23s 3s/step - loss: 0.2126 - accuracy: 0.9155 - val_loss: 2.5194 - val_accuracy: 0.6367\n",
            "Epoch 87/100\n",
            "8/8 [==============================] - 23s 3s/step - loss: 0.1320 - accuracy: 0.9544 - val_loss: 2.9282 - val_accuracy: 0.6172\n",
            "Epoch 88/100\n",
            "8/8 [==============================] - 23s 3s/step - loss: 0.1475 - accuracy: 0.9377 - val_loss: 2.1340 - val_accuracy: 0.6680\n",
            "Epoch 89/100\n",
            "8/8 [==============================] - 24s 3s/step - loss: 0.2266 - accuracy: 0.8988 - val_loss: 1.8432 - val_accuracy: 0.6758\n",
            "Epoch 90/100\n",
            "8/8 [==============================] - 26s 3s/step - loss: 0.1224 - accuracy: 0.9541 - val_loss: 3.5109 - val_accuracy: 0.5898\n",
            "Epoch 91/100\n",
            "8/8 [==============================] - 23s 3s/step - loss: 0.1364 - accuracy: 0.9488 - val_loss: 1.3534 - val_accuracy: 0.7422\n",
            "Epoch 92/100\n",
            "8/8 [==============================] - 23s 3s/step - loss: 0.1834 - accuracy: 0.9310 - val_loss: 1.6871 - val_accuracy: 0.6914\n",
            "Epoch 93/100\n",
            "8/8 [==============================] - 23s 3s/step - loss: 0.1865 - accuracy: 0.9244 - val_loss: 2.5626 - val_accuracy: 0.6484\n",
            "Epoch 94/100\n",
            "8/8 [==============================] - 23s 3s/step - loss: 0.1425 - accuracy: 0.9499 - val_loss: 1.9762 - val_accuracy: 0.6797\n",
            "Epoch 95/100\n",
            "8/8 [==============================] - 23s 3s/step - loss: 0.2138 - accuracy: 0.9088 - val_loss: 2.6046 - val_accuracy: 0.6445\n",
            "Epoch 96/100\n",
            "8/8 [==============================] - 24s 3s/step - loss: 0.1161 - accuracy: 0.9633 - val_loss: 2.6581 - val_accuracy: 0.6484\n",
            "Epoch 97/100\n",
            "8/8 [==============================] - 24s 3s/step - loss: 0.1367 - accuracy: 0.9499 - val_loss: 3.1722 - val_accuracy: 0.6172\n",
            "Epoch 98/100\n",
            "8/8 [==============================] - 24s 3s/step - loss: 0.1902 - accuracy: 0.9221 - val_loss: 3.7669 - val_accuracy: 0.5820\n",
            "Epoch 99/100\n",
            "8/8 [==============================] - 24s 3s/step - loss: 0.2319 - accuracy: 0.9099 - val_loss: 2.2795 - val_accuracy: 0.6445\n",
            "Epoch 100/100\n",
            "8/8 [==============================] - 24s 3s/step - loss: 0.1484 - accuracy: 0.9422 - val_loss: 2.4011 - val_accuracy: 0.6523\n"
          ]
        }
      ]
    },
    {
      "cell_type": "code",
      "metadata": {
        "id": "7zNPRWOVJdOH",
        "outputId": "a107ce19-fca3-48f7-a211-18052116d626",
        "colab": {
          "base_uri": "https://localhost:8080/",
          "height": 545
        }
      },
      "source": [
        "import matplotlib.pyplot as plt\n",
        "acc = history.history['accuracy']\n",
        "val_acc = history.history['val_accuracy']\n",
        "loss = history.history['loss']\n",
        "val_loss = history.history['val_loss']\n",
        "\n",
        "epochs = range(len(acc))\n",
        "\n",
        "plt.plot(epochs, acc, 'r', label='Training accuracy')\n",
        "plt.plot(epochs, val_acc, 'b', label='Validation accuracy')\n",
        "plt.title('Training and validation accuracy')\n",
        "\n",
        "plt.figure()\n",
        "\n",
        "plt.plot(epochs, loss, 'r', label='Training Loss')\n",
        "plt.plot(epochs, val_loss, 'b', label='Validation Loss')\n",
        "plt.title('Training and validation loss')\n",
        "plt.legend()\n",
        "\n",
        "plt.show()"
      ],
      "execution_count": 8,
      "outputs": [
        {
          "output_type": "display_data",
          "data": {
            "image/png": "[encoded data removed]",
            "text/plain": [
              "<Figure size 432x288 with 1 Axes>"
            ]
          },
          "metadata": {
            "needs_background": "light"
          }
        },
        {
          "output_type": "display_data",
          "data": {
            "image/png": "[encoded data removed]",
            "text/plain": [
              "<Figure size 432x288 with 1 Axes>"
            ]
          },
          "metadata": {
            "needs_background": "light"
          }
        }
      ]
    },
    {
      "cell_type": "code",
      "metadata": {
        "id": "KdutF5kVQU16"
      },
      "source": [
        ""
      ],
      "execution_count": null,
      "outputs": []
    }
  ]
}