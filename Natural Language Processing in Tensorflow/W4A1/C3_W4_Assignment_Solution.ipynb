{
  "nbformat": 4,
  "nbformat_minor": 0,
  "metadata": {
    "accelerator": "GPU",
    "colab": {
      "name": "C3_W4_Assignment_Solution.ipynb",
      "provenance": [],
      "collapsed_sections": [],
      "toc_visible": true
    },
    "kernelspec": {
      "name": "python3",
      "display_name": "Python 3"
    },
    "language_info": {
      "name": "python"
    }
  },
  "cells": [
    {
      "cell_type": "code",
      "metadata": {
        "id": "zX4Kg8DUTKWO"
      },
      "source": [
        "#@title Licensed under the Apache License, Version 2.0 (the \"License\");\n",
        "# you may not use this file except in compliance with the License.\n",
        "# You may obtain a copy of the License at\n",
        "#\n",
        "# https://www.apache.org/licenses/LICENSE-2.0\n",
        "#\n",
        "# Unless required by applicable law or agreed to in writing, software\n",
        "# distributed under the License is distributed on an \"AS IS\" BASIS,\n",
        "# WITHOUT WARRANTIES OR CONDITIONS OF ANY KIND, either express or implied.\n",
        "# See the License for the specific language governing permissions and\n",
        "# limitations under the License."
      ],
      "execution_count": null,
      "outputs": []
    },
    {
      "cell_type": "markdown",
      "metadata": {
        "id": "NeQByOlMmtn8"
      },
      "source": [
        "**Note:** This notebook can run using TensorFlow 2.5.0"
      ]
    },
    {
      "cell_type": "code",
      "metadata": {
        "id": "QtWdoQT_mtn8"
      },
      "source": [
        "#!pip install tensorflow==2.5.0"
      ],
      "execution_count": 1,
      "outputs": []
    },
    {
      "cell_type": "code",
      "metadata": {
        "id": "BOwsuGQQY9OL"
      },
      "source": [
        "from tensorflow.keras.preprocessing.sequence import pad_sequences\n",
        "from tensorflow.keras.layers import Embedding, LSTM, Dense, Dropout, Bidirectional\n",
        "from tensorflow.keras.preprocessing.text import Tokenizer\n",
        "from tensorflow.keras.models import Sequential\n",
        "from tensorflow.keras.optimizers import Adam\n",
        "from tensorflow.keras import regularizers\n",
        "import tensorflow.keras.utils as ku \n",
        "import numpy as np "
      ],
      "execution_count": 2,
      "outputs": []
    },
    {
      "cell_type": "code",
      "metadata": {
        "id": "PRnDnCW-Z7qv",
        "outputId": "9a024425-b8fa-40d2-9df0-9d08ae294773",
        "colab": {
          "base_uri": "https://localhost:8080/"
        }
      },
      "source": [
        "tokenizer = Tokenizer()\n",
        "\n",
        "# sonnets.txt\n",
        "!gdown --id 108jAePKK4R3BVYBbYJZ32JWUwxeMg20K\n",
        "\n",
        "data = open('./sonnets.txt').read()\n",
        "\n",
        "corpus = data.lower().split(\"\\n\")\n",
        "\n",
        "\n",
        "tokenizer.fit_on_texts(corpus)\n",
        "total_words = len(tokenizer.word_index) + 1\n",
        "\n",
        "# create input sequences using list of tokens\n",
        "input_sequences = []\n",
        "for line in corpus:\n",
        "\ttoken_list = tokenizer.texts_to_sequences([line])[0]\n",
        "\tfor i in range(1, len(token_list)):\n",
        "\t\tn_gram_sequence = token_list[:i+1]\n",
        "\t\tinput_sequences.append(n_gram_sequence)\n",
        "\n",
        "\n",
        "# pad sequences \n",
        "max_sequence_len = max([len(x) for x in input_sequences])\n",
        "input_sequences = np.array(pad_sequences(input_sequences, maxlen=max_sequence_len, padding='pre'))\n",
        "\n",
        "# create predictors and label\n",
        "predictors, label = input_sequences[:,:-1],input_sequences[:,-1]\n",
        "\n",
        "label = ku.to_categorical(label, num_classes=total_words)"
      ],
      "execution_count": 3,
      "outputs": [
        {
          "output_type": "stream",
          "name": "stdout",
          "text": [
            "Downloading...\n",
            "From: https://drive.google.com/uc?id=108jAePKK4R3BVYBbYJZ32JWUwxeMg20K\n",
            "To: /content/sonnets.txt\n",
            "\r  0% 0.00/93.6k [00:00<?, ?B/s]\r100% 93.6k/93.6k [00:00<00:00, 35.6MB/s]\n"
          ]
        }
      ]
    },
    {
      "cell_type": "code",
      "metadata": {
        "id": "w9vH8Y59ajYL",
        "outputId": "0a62a5d4-5158-43b3-c00d-fab0fcb3fd54",
        "colab": {
          "base_uri": "https://localhost:8080/"
        }
      },
      "source": [
        "### START CODE HERE\n",
        "model = Sequential()\n",
        "model.add(Embedding(total_words, 100, input_length=max_sequence_len-1))# Your Embedding Layer)\n",
        "model.add(Bidirectional(LSTM(150, return_sequences = True)))# An LSTM Layer)\n",
        "model.add(Dropout(0.2))# A dropout layer)\n",
        "model.add(LSTM(100))# Another LSTM Layer)\n",
        "model.add(Dense(total_words/2, activation='relu', kernel_regularizer=regularizers.l2(0.01)))# A Dense Layer including regularizers)\n",
        "model.add(Dense(total_words, activation='softmax'))# A Dense Layer)\n",
        "# Pick an optimizer\n",
        "model.compile(loss='categorical_crossentropy', optimizer='adam', metrics=['accuracy'])# Pick a loss function and an optimizer)\n",
        "### END CODE HERE\n",
        "\n",
        "print(model.summary())"
      ],
      "execution_count": 4,
      "outputs": [
        {
          "output_type": "stream",
          "name": "stdout",
          "text": [
            "Model: \"sequential\"\n",
            "_________________________________________________________________\n",
            "Layer (type)                 Output Shape              Param #   \n",
            "=================================================================\n",
            "embedding (Embedding)        (None, 10, 100)           321100    \n",
            "_________________________________________________________________\n",
            "bidirectional (Bidirectional (None, 10, 300)           301200    \n",
            "_________________________________________________________________\n",
            "dropout (Dropout)            (None, 10, 300)           0         \n",
            "_________________________________________________________________\n",
            "lstm_1 (LSTM)                (None, 100)               160400    \n",
            "_________________________________________________________________\n",
            "dense (Dense)                (None, 1605)              162105    \n",
            "_________________________________________________________________\n",
            "dense_1 (Dense)              (None, 3211)              5156866   \n",
            "=================================================================\n",
            "Total params: 6,101,671\n",
            "Trainable params: 6,101,671\n",
            "Non-trainable params: 0\n",
            "_________________________________________________________________\n",
            "None\n"
          ]
        }
      ]
    },
    {
      "cell_type": "code",
      "metadata": {
        "id": "AIg2f1HBxqof",
        "outputId": "93ac48c5-c887-41ad-9cd9-5833aa96e2c4",
        "colab": {
          "base_uri": "https://localhost:8080/"
        }
      },
      "source": [
        " history = model.fit(predictors, label, epochs=100, verbose=1)"
      ],
      "execution_count": 5,
      "outputs": [
        {
          "output_type": "stream",
          "name": "stdout",
          "text": [
            "Epoch 1/100\n",
            "484/484 [==============================] - 22s 25ms/step - loss: 6.9030 - accuracy: 0.0195\n",
            "Epoch 2/100\n",
            "484/484 [==============================] - 12s 25ms/step - loss: 6.4998 - accuracy: 0.0238\n",
            "Epoch 3/100\n",
            "484/484 [==============================] - 12s 24ms/step - loss: 6.3877 - accuracy: 0.0270\n",
            "Epoch 4/100\n",
            "484/484 [==============================] - 12s 25ms/step - loss: 6.2676 - accuracy: 0.0312\n",
            "Epoch 5/100\n",
            "484/484 [==============================] - 12s 24ms/step - loss: 6.1728 - accuracy: 0.0365\n",
            "Epoch 6/100\n",
            "484/484 [==============================] - 12s 24ms/step - loss: 6.0895 - accuracy: 0.0398\n",
            "Epoch 7/100\n",
            "484/484 [==============================] - 12s 24ms/step - loss: 6.0070 - accuracy: 0.0433\n",
            "Epoch 8/100\n",
            "484/484 [==============================] - 12s 24ms/step - loss: 5.9156 - accuracy: 0.0475\n",
            "Epoch 9/100\n",
            "484/484 [==============================] - 12s 24ms/step - loss: 5.8110 - accuracy: 0.0536\n",
            "Epoch 10/100\n",
            "484/484 [==============================] - 12s 24ms/step - loss: 5.7063 - accuracy: 0.0605\n",
            "Epoch 11/100\n",
            "484/484 [==============================] - 12s 24ms/step - loss: 5.6004 - accuracy: 0.0672\n",
            "Epoch 12/100\n",
            "484/484 [==============================] - 12s 24ms/step - loss: 5.4984 - accuracy: 0.0711\n",
            "Epoch 13/100\n",
            "484/484 [==============================] - 12s 24ms/step - loss: 5.3954 - accuracy: 0.0777\n",
            "Epoch 14/100\n",
            "484/484 [==============================] - 12s 24ms/step - loss: 5.2898 - accuracy: 0.0885\n",
            "Epoch 15/100\n",
            "484/484 [==============================] - 12s 24ms/step - loss: 5.1939 - accuracy: 0.0915\n",
            "Epoch 16/100\n",
            "484/484 [==============================] - 12s 24ms/step - loss: 5.0883 - accuracy: 0.1006\n",
            "Epoch 17/100\n",
            "484/484 [==============================] - 11s 24ms/step - loss: 4.9780 - accuracy: 0.1079\n",
            "Epoch 18/100\n",
            "484/484 [==============================] - 11s 23ms/step - loss: 4.8791 - accuracy: 0.1147\n",
            "Epoch 19/100\n",
            "484/484 [==============================] - 11s 23ms/step - loss: 4.7732 - accuracy: 0.1239\n",
            "Epoch 20/100\n",
            "484/484 [==============================] - 11s 24ms/step - loss: 4.6663 - accuracy: 0.1348\n",
            "Epoch 21/100\n",
            "484/484 [==============================] - 11s 23ms/step - loss: 4.5642 - accuracy: 0.1404\n",
            "Epoch 22/100\n",
            "484/484 [==============================] - 11s 23ms/step - loss: 4.4563 - accuracy: 0.1548\n",
            "Epoch 23/100\n",
            "484/484 [==============================] - 11s 23ms/step - loss: 4.3506 - accuracy: 0.1649\n",
            "Epoch 24/100\n",
            "484/484 [==============================] - 11s 23ms/step - loss: 4.2510 - accuracy: 0.1770\n",
            "Epoch 25/100\n",
            "484/484 [==============================] - 11s 23ms/step - loss: 4.1426 - accuracy: 0.1879\n",
            "Epoch 26/100\n",
            "484/484 [==============================] - 11s 23ms/step - loss: 4.0322 - accuracy: 0.2075\n",
            "Epoch 27/100\n",
            "484/484 [==============================] - 11s 23ms/step - loss: 3.9393 - accuracy: 0.2226\n",
            "Epoch 28/100\n",
            "484/484 [==============================] - 11s 23ms/step - loss: 3.8327 - accuracy: 0.2398\n",
            "Epoch 29/100\n",
            "484/484 [==============================] - 11s 23ms/step - loss: 3.7350 - accuracy: 0.2584\n",
            "Epoch 30/100\n",
            "484/484 [==============================] - 11s 23ms/step - loss: 3.6365 - accuracy: 0.2779\n",
            "Epoch 31/100\n",
            "484/484 [==============================] - 11s 23ms/step - loss: 3.5502 - accuracy: 0.2961\n",
            "Epoch 32/100\n",
            "484/484 [==============================] - 11s 23ms/step - loss: 3.4551 - accuracy: 0.3177\n",
            "Epoch 33/100\n",
            "484/484 [==============================] - 11s 23ms/step - loss: 3.3694 - accuracy: 0.3346\n",
            "Epoch 34/100\n",
            "484/484 [==============================] - 11s 23ms/step - loss: 3.2911 - accuracy: 0.3541\n",
            "Epoch 35/100\n",
            "484/484 [==============================] - 11s 23ms/step - loss: 3.1968 - accuracy: 0.3702\n",
            "Epoch 36/100\n",
            "484/484 [==============================] - 11s 23ms/step - loss: 3.1283 - accuracy: 0.3886\n",
            "Epoch 37/100\n",
            "484/484 [==============================] - 11s 23ms/step - loss: 3.0535 - accuracy: 0.4051\n",
            "Epoch 38/100\n",
            "484/484 [==============================] - 11s 23ms/step - loss: 2.9723 - accuracy: 0.4196\n",
            "Epoch 39/100\n",
            "484/484 [==============================] - 11s 23ms/step - loss: 2.9027 - accuracy: 0.4383\n",
            "Epoch 40/100\n",
            "484/484 [==============================] - 11s 24ms/step - loss: 2.8226 - accuracy: 0.4538\n",
            "Epoch 41/100\n",
            "484/484 [==============================] - 11s 23ms/step - loss: 2.7693 - accuracy: 0.4657\n",
            "Epoch 42/100\n",
            "484/484 [==============================] - 11s 23ms/step - loss: 2.6957 - accuracy: 0.4841\n",
            "Epoch 43/100\n",
            "484/484 [==============================] - 11s 23ms/step - loss: 2.6416 - accuracy: 0.4939\n",
            "Epoch 44/100\n",
            "484/484 [==============================] - 11s 23ms/step - loss: 2.5715 - accuracy: 0.5080\n",
            "Epoch 45/100\n",
            "484/484 [==============================] - 11s 23ms/step - loss: 2.5238 - accuracy: 0.5224\n",
            "Epoch 46/100\n",
            "484/484 [==============================] - 11s 23ms/step - loss: 2.4710 - accuracy: 0.5341\n",
            "Epoch 47/100\n",
            "484/484 [==============================] - 11s 23ms/step - loss: 2.4130 - accuracy: 0.5391\n",
            "Epoch 48/100\n",
            "484/484 [==============================] - 11s 23ms/step - loss: 2.3646 - accuracy: 0.5579\n",
            "Epoch 49/100\n",
            "484/484 [==============================] - 11s 23ms/step - loss: 2.3143 - accuracy: 0.5700\n",
            "Epoch 50/100\n",
            "484/484 [==============================] - 11s 23ms/step - loss: 2.2552 - accuracy: 0.5831\n",
            "Epoch 51/100\n",
            "484/484 [==============================] - 11s 23ms/step - loss: 2.2090 - accuracy: 0.5940\n",
            "Epoch 52/100\n",
            "484/484 [==============================] - 11s 24ms/step - loss: 2.1626 - accuracy: 0.6045\n",
            "Epoch 53/100\n",
            "484/484 [==============================] - 11s 23ms/step - loss: 2.1227 - accuracy: 0.6122\n",
            "Epoch 54/100\n",
            "484/484 [==============================] - 11s 23ms/step - loss: 2.0761 - accuracy: 0.6233\n",
            "Epoch 55/100\n",
            "484/484 [==============================] - 11s 24ms/step - loss: 2.0385 - accuracy: 0.6291\n",
            "Epoch 56/100\n",
            "484/484 [==============================] - 11s 24ms/step - loss: 2.0027 - accuracy: 0.6402\n",
            "Epoch 57/100\n",
            "484/484 [==============================] - 11s 24ms/step - loss: 1.9701 - accuracy: 0.6442\n",
            "Epoch 58/100\n",
            "484/484 [==============================] - 11s 23ms/step - loss: 1.9191 - accuracy: 0.6553\n",
            "Epoch 59/100\n",
            "484/484 [==============================] - 11s 24ms/step - loss: 1.8825 - accuracy: 0.6651\n",
            "Epoch 60/100\n",
            "484/484 [==============================] - 11s 23ms/step - loss: 1.8536 - accuracy: 0.6669\n",
            "Epoch 61/100\n",
            "484/484 [==============================] - 11s 23ms/step - loss: 1.8135 - accuracy: 0.6790\n",
            "Epoch 62/100\n",
            "484/484 [==============================] - 11s 23ms/step - loss: 1.7853 - accuracy: 0.6838\n",
            "Epoch 63/100\n",
            "484/484 [==============================] - 12s 24ms/step - loss: 1.7676 - accuracy: 0.6886\n",
            "Epoch 64/100\n",
            "484/484 [==============================] - 11s 23ms/step - loss: 1.7292 - accuracy: 0.6946\n",
            "Epoch 65/100\n",
            "484/484 [==============================] - 11s 23ms/step - loss: 1.6935 - accuracy: 0.7022\n",
            "Epoch 66/100\n",
            "484/484 [==============================] - 11s 24ms/step - loss: 1.6720 - accuracy: 0.7081\n",
            "Epoch 67/100\n",
            "484/484 [==============================] - 11s 24ms/step - loss: 1.6435 - accuracy: 0.7091\n",
            "Epoch 68/100\n",
            "484/484 [==============================] - 11s 23ms/step - loss: 1.6212 - accuracy: 0.7158\n",
            "Epoch 69/100\n",
            "484/484 [==============================] - 11s 24ms/step - loss: 1.5905 - accuracy: 0.7268\n",
            "Epoch 70/100\n",
            "484/484 [==============================] - 11s 24ms/step - loss: 1.5629 - accuracy: 0.7291\n",
            "Epoch 71/100\n",
            "484/484 [==============================] - 11s 24ms/step - loss: 1.5478 - accuracy: 0.7299\n",
            "Epoch 72/100\n",
            "484/484 [==============================] - 11s 24ms/step - loss: 1.5202 - accuracy: 0.7377\n",
            "Epoch 73/100\n",
            "484/484 [==============================] - 11s 24ms/step - loss: 1.5076 - accuracy: 0.7396\n",
            "Epoch 74/100\n",
            "484/484 [==============================] - 11s 24ms/step - loss: 1.4870 - accuracy: 0.7433\n",
            "Epoch 75/100\n",
            "484/484 [==============================] - 11s 23ms/step - loss: 1.4622 - accuracy: 0.7471\n",
            "Epoch 76/100\n",
            "484/484 [==============================] - 11s 23ms/step - loss: 1.4528 - accuracy: 0.7471\n",
            "Epoch 77/100\n",
            "484/484 [==============================] - 11s 24ms/step - loss: 1.4173 - accuracy: 0.7579\n",
            "Epoch 78/100\n",
            "484/484 [==============================] - 11s 24ms/step - loss: 1.4085 - accuracy: 0.7565\n",
            "Epoch 79/100\n",
            "484/484 [==============================] - 11s 23ms/step - loss: 1.3848 - accuracy: 0.7600\n",
            "Epoch 80/100\n",
            "484/484 [==============================] - 11s 24ms/step - loss: 1.3767 - accuracy: 0.7595\n",
            "Epoch 81/100\n",
            "484/484 [==============================] - 12s 24ms/step - loss: 1.3668 - accuracy: 0.7621\n",
            "Epoch 82/100\n",
            "484/484 [==============================] - 11s 23ms/step - loss: 1.3394 - accuracy: 0.7678\n",
            "Epoch 83/100\n",
            "484/484 [==============================] - 11s 23ms/step - loss: 1.3152 - accuracy: 0.7724\n",
            "Epoch 84/100\n",
            "484/484 [==============================] - 11s 23ms/step - loss: 1.3019 - accuracy: 0.7747\n",
            "Epoch 85/100\n",
            "484/484 [==============================] - 11s 23ms/step - loss: 1.2842 - accuracy: 0.7795\n",
            "Epoch 86/100\n",
            "484/484 [==============================] - 11s 24ms/step - loss: 1.2774 - accuracy: 0.7808\n",
            "Epoch 87/100\n",
            "484/484 [==============================] - 11s 23ms/step - loss: 1.2672 - accuracy: 0.7841\n",
            "Epoch 88/100\n",
            "484/484 [==============================] - 11s 23ms/step - loss: 1.2557 - accuracy: 0.7847\n",
            "Epoch 89/100\n",
            "484/484 [==============================] - 11s 23ms/step - loss: 1.2523 - accuracy: 0.7835\n",
            "Epoch 90/100\n",
            "484/484 [==============================] - 11s 23ms/step - loss: 1.2321 - accuracy: 0.7880\n",
            "Epoch 91/100\n",
            "484/484 [==============================] - 11s 23ms/step - loss: 1.2208 - accuracy: 0.7881\n",
            "Epoch 92/100\n",
            "484/484 [==============================] - 11s 23ms/step - loss: 1.2049 - accuracy: 0.7938\n",
            "Epoch 93/100\n",
            "484/484 [==============================] - 11s 23ms/step - loss: 1.1885 - accuracy: 0.7976\n",
            "Epoch 94/100\n",
            "484/484 [==============================] - 11s 23ms/step - loss: 1.1842 - accuracy: 0.7944\n",
            "Epoch 95/100\n",
            "484/484 [==============================] - 11s 23ms/step - loss: 1.1668 - accuracy: 0.8000\n",
            "Epoch 96/100\n",
            "484/484 [==============================] - 11s 23ms/step - loss: 1.1531 - accuracy: 0.8020\n",
            "Epoch 97/100\n",
            "484/484 [==============================] - 11s 23ms/step - loss: 1.1548 - accuracy: 0.7989\n",
            "Epoch 98/100\n",
            "484/484 [==============================] - 11s 23ms/step - loss: 1.1414 - accuracy: 0.8022\n",
            "Epoch 99/100\n",
            "484/484 [==============================] - 11s 23ms/step - loss: 1.1229 - accuracy: 0.8062\n",
            "Epoch 100/100\n",
            "484/484 [==============================] - 11s 23ms/step - loss: 1.1097 - accuracy: 0.8108\n"
          ]
        }
      ]
    },
    {
      "cell_type": "code",
      "metadata": {
        "id": "1fXTEO3GJ282",
        "outputId": "89db255b-2ace-4bf0-8c2f-d85d832afa92",
        "colab": {
          "base_uri": "https://localhost:8080/",
          "height": 545
        }
      },
      "source": [
        "import matplotlib.pyplot as plt\n",
        "acc = history.history['accuracy']\n",
        "loss = history.history['loss']\n",
        "\n",
        "epochs = range(len(acc))\n",
        "\n",
        "plt.plot(epochs, acc, 'b', label='Training accuracy')\n",
        "plt.title('Training accuracy')\n",
        "\n",
        "plt.figure()\n",
        "\n",
        "plt.plot(epochs, loss, 'b', label='Training Loss')\n",
        "plt.title('Training loss')\n",
        "plt.legend()\n",
        "\n",
        "plt.show()"
      ],
      "execution_count": 6,
      "outputs": [
        {
          "output_type": "display_data",
          "data": {
            "image/png": "[encoded data removed]",
            "text/plain": [
              "<Figure size 432x288 with 1 Axes>"
            ]
          },
          "metadata": {
            "needs_background": "light"
          }
        },
        {
          "output_type": "display_data",
          "data": {
            "image/png": "[encoded data removed]",
            "text/plain": [
              "<Figure size 432x288 with 1 Axes>"
            ]
          },
          "metadata": {
            "needs_background": "light"
          }
        }
      ]
    },
    {
      "cell_type": "code",
      "metadata": {
        "id": "6Vc6PHgxa6Hm",
        "outputId": "ed61d556-53ad-4407-b295-857014d985bb",
        "colab": {
          "base_uri": "https://localhost:8080/"
        }
      },
      "source": [
        "seed_text = \"Help me Obi Wan Kenobi, you're my only hope\"\n",
        "next_words = 100\n",
        "  \n",
        "for _ in range(next_words):\n",
        "\ttoken_list = tokenizer.texts_to_sequences([seed_text])[0]\n",
        "\ttoken_list = pad_sequences([token_list], maxlen=max_sequence_len-1, padding='pre')\n",
        "\tpredicted = model.predict(token_list, verbose=0)\n",
        "\tpredicted = np.argmax(predicted, axis=1)\n",
        "\toutput_word = \"\"\n",
        "\tfor word, index in tokenizer.word_index.items():\n",
        "\t\tif index == predicted:\n",
        "\t\t\toutput_word = word\n",
        "\t\t\tbreak\n",
        "\tseed_text += \" \" + output_word\n",
        "print(seed_text)"
      ],
      "execution_count": 9,
      "outputs": [
        {
          "output_type": "stream",
          "name": "stdout",
          "text": [
            "Help me Obi Wan Kenobi, you're my only hope no hell in groan did sing old words not bad say me bright lie by thee so my will be prove away thee so foes commend bright rolling lend him another brow deeds new days lend deeds days days lend thee young of none commend hate days days did prove away thee rolling ' away best ' ' ere like up none heaven seen decrease decrease express'd sit dead rolling dead rolling rolling rolling grow mad sad blot do decrease hits give men false days days light another view ' ' new dead ' bearing day up up lend men\n"
          ]
        }
      ]
    },
    {
      "cell_type": "code",
      "metadata": {
        "id": "h14hfYbQgfpP"
      },
      "source": [
        ""
      ],
      "execution_count": null,
      "outputs": []
    }
  ]
}