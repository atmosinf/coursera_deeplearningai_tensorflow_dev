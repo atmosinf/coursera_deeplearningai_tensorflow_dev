{
  "nbformat": 4,
  "nbformat_minor": 0,
  "metadata": {
    "accelerator": "GPU",
    "colab": {
      "name": "C3_W3_Lab_4_imdb_reviews_with_GRU_LSTM_Conv1D.ipynb",
      "provenance": [],
      "collapsed_sections": [],
      "toc_visible": true
    },
    "kernelspec": {
      "name": "python3",
      "display_name": "Python 3"
    },
    "language_info": {
      "name": "python"
    },
    "widgets": {
      "application/vnd.jupyter.widget-state+json": {
        "8f5b19aba553490f8d9e14fb315c2076": {
          "model_module": "@jupyter-widgets/controls",
          "model_name": "HBoxModel",
          "model_module_version": "1.5.0",
          "state": {
            "_view_name": "HBoxView",
            "_dom_classes": [],
            "_model_name": "HBoxModel",
            "_view_module": "@jupyter-widgets/controls",
            "_model_module_version": "1.5.0",
            "_view_count": null,
            "_view_module_version": "1.5.0",
            "box_style": "",
            "layout": "IPY_MODEL_5cf19997854c420a863348d0fa4eb0aa",
            "_model_module": "@jupyter-widgets/controls",
            "children": [
              "IPY_MODEL_f768c38da3c140ea83e5362a68319181",
              "IPY_MODEL_28502b88f7f344189781c1c6328659a6",
              "IPY_MODEL_5959a376e4794d50a57b7f096001b0cd"
            ]
          }
        },
        "5cf19997854c420a863348d0fa4eb0aa": {
          "model_module": "@jupyter-widgets/base",
          "model_name": "LayoutModel",
          "model_module_version": "1.2.0",
          "state": {
            "_view_name": "LayoutView",
            "grid_template_rows": null,
            "right": null,
            "justify_content": null,
            "_view_module": "@jupyter-widgets/base",
            "overflow": null,
            "_model_module_version": "1.2.0",
            "_view_count": null,
            "flex_flow": null,
            "width": null,
            "min_width": null,
            "border": null,
            "align_items": null,
            "bottom": null,
            "_model_module": "@jupyter-widgets/base",
            "top": null,
            "grid_column": null,
            "overflow_y": null,
            "overflow_x": null,
            "grid_auto_flow": null,
            "grid_area": null,
            "grid_template_columns": null,
            "flex": null,
            "_model_name": "LayoutModel",
            "justify_items": null,
            "grid_row": null,
            "max_height": null,
            "align_content": null,
            "visibility": null,
            "align_self": null,
            "height": null,
            "min_height": null,
            "padding": null,
            "grid_auto_rows": null,
            "grid_gap": null,
            "max_width": null,
            "order": null,
            "_view_module_version": "1.2.0",
            "grid_template_areas": null,
            "object_position": null,
            "object_fit": null,
            "grid_auto_columns": null,
            "margin": null,
            "display": null,
            "left": null
          }
        },
        "f768c38da3c140ea83e5362a68319181": {
          "model_module": "@jupyter-widgets/controls",
          "model_name": "HTMLModel",
          "model_module_version": "1.5.0",
          "state": {
            "_view_name": "HTMLView",
            "style": "IPY_MODEL_429c893f3acf474aabff6eddd4581b38",
            "_dom_classes": [],
            "description": "",
            "_model_name": "HTMLModel",
            "placeholder": "​",
            "_view_module": "@jupyter-widgets/controls",
            "_model_module_version": "1.5.0",
            "value": "Dl Completed...: 100%",
            "_view_count": null,
            "_view_module_version": "1.5.0",
            "description_tooltip": null,
            "_model_module": "@jupyter-widgets/controls",
            "layout": "IPY_MODEL_3ef08cb9812b402c8d75a5b94c604584"
          }
        },
        "28502b88f7f344189781c1c6328659a6": {
          "model_module": "@jupyter-widgets/controls",
          "model_name": "FloatProgressModel",
          "model_module_version": "1.5.0",
          "state": {
            "_view_name": "ProgressView",
            "style": "IPY_MODEL_b054e5f5d2294991bbfa7b2087bd6835",
            "_dom_classes": [],
            "description": "",
            "_model_name": "FloatProgressModel",
            "bar_style": "success",
            "max": 1,
            "_view_module": "@jupyter-widgets/controls",
            "_model_module_version": "1.5.0",
            "value": 1,
            "_view_count": null,
            "_view_module_version": "1.5.0",
            "orientation": "horizontal",
            "min": 0,
            "description_tooltip": null,
            "_model_module": "@jupyter-widgets/controls",
            "layout": "IPY_MODEL_7e250911eaa549498f97658927cd5425"
          }
        },
        "5959a376e4794d50a57b7f096001b0cd": {
          "model_module": "@jupyter-widgets/controls",
          "model_name": "HTMLModel",
          "model_module_version": "1.5.0",
          "state": {
            "_view_name": "HTMLView",
            "style": "IPY_MODEL_e6d589d2272d4272b4fb5ef182a9aef5",
            "_dom_classes": [],
            "description": "",
            "_model_name": "HTMLModel",
            "placeholder": "​",
            "_view_module": "@jupyter-widgets/controls",
            "_model_module_version": "1.5.0",
            "value": " 1/1 [00:07&lt;00:00,  7.11s/ url]",
            "_view_count": null,
            "_view_module_version": "1.5.0",
            "description_tooltip": null,
            "_model_module": "@jupyter-widgets/controls",
            "layout": "IPY_MODEL_363dffcab13c49eb96f51acbe80d075b"
          }
        },
        "429c893f3acf474aabff6eddd4581b38": {
          "model_module": "@jupyter-widgets/controls",
          "model_name": "DescriptionStyleModel",
          "model_module_version": "1.5.0",
          "state": {
            "_view_name": "StyleView",
            "_model_name": "DescriptionStyleModel",
            "description_width": "",
            "_view_module": "@jupyter-widgets/base",
            "_model_module_version": "1.5.0",
            "_view_count": null,
            "_view_module_version": "1.2.0",
            "_model_module": "@jupyter-widgets/controls"
          }
        },
        "3ef08cb9812b402c8d75a5b94c604584": {
          "model_module": "@jupyter-widgets/base",
          "model_name": "LayoutModel",
          "model_module_version": "1.2.0",
          "state": {
            "_view_name": "LayoutView",
            "grid_template_rows": null,
            "right": null,
            "justify_content": null,
            "_view_module": "@jupyter-widgets/base",
            "overflow": null,
            "_model_module_version": "1.2.0",
            "_view_count": null,
            "flex_flow": null,
            "width": null,
            "min_width": null,
            "border": null,
            "align_items": null,
            "bottom": null,
            "_model_module": "@jupyter-widgets/base",
            "top": null,
            "grid_column": null,
            "overflow_y": null,
            "overflow_x": null,
            "grid_auto_flow": null,
            "grid_area": null,
            "grid_template_columns": null,
            "flex": null,
            "_model_name": "LayoutModel",
            "justify_items": null,
            "grid_row": null,
            "max_height": null,
            "align_content": null,
            "visibility": null,
            "align_self": null,
            "height": null,
            "min_height": null,
            "padding": null,
            "grid_auto_rows": null,
            "grid_gap": null,
            "max_width": null,
            "order": null,
            "_view_module_version": "1.2.0",
            "grid_template_areas": null,
            "object_position": null,
            "object_fit": null,
            "grid_auto_columns": null,
            "margin": null,
            "display": null,
            "left": null
          }
        },
        "b054e5f5d2294991bbfa7b2087bd6835": {
          "model_module": "@jupyter-widgets/controls",
          "model_name": "ProgressStyleModel",
          "model_module_version": "1.5.0",
          "state": {
            "_view_name": "StyleView",
            "_model_name": "ProgressStyleModel",
            "description_width": "",
            "_view_module": "@jupyter-widgets/base",
            "_model_module_version": "1.5.0",
            "_view_count": null,
            "_view_module_version": "1.2.0",
            "bar_color": null,
            "_model_module": "@jupyter-widgets/controls"
          }
        },
        "7e250911eaa549498f97658927cd5425": {
          "model_module": "@jupyter-widgets/base",
          "model_name": "LayoutModel",
          "model_module_version": "1.2.0",
          "state": {
            "_view_name": "LayoutView",
            "grid_template_rows": null,
            "right": null,
            "justify_content": null,
            "_view_module": "@jupyter-widgets/base",
            "overflow": null,
            "_model_module_version": "1.2.0",
            "_view_count": null,
            "flex_flow": null,
            "width": "20px",
            "min_width": null,
            "border": null,
            "align_items": null,
            "bottom": null,
            "_model_module": "@jupyter-widgets/base",
            "top": null,
            "grid_column": null,
            "overflow_y": null,
            "overflow_x": null,
            "grid_auto_flow": null,
            "grid_area": null,
            "grid_template_columns": null,
            "flex": null,
            "_model_name": "LayoutModel",
            "justify_items": null,
            "grid_row": null,
            "max_height": null,
            "align_content": null,
            "visibility": null,
            "align_self": null,
            "height": null,
            "min_height": null,
            "padding": null,
            "grid_auto_rows": null,
            "grid_gap": null,
            "max_width": null,
            "order": null,
            "_view_module_version": "1.2.0",
            "grid_template_areas": null,
            "object_position": null,
            "object_fit": null,
            "grid_auto_columns": null,
            "margin": null,
            "display": null,
            "left": null
          }
        },
        "e6d589d2272d4272b4fb5ef182a9aef5": {
          "model_module": "@jupyter-widgets/controls",
          "model_name": "DescriptionStyleModel",
          "model_module_version": "1.5.0",
          "state": {
            "_view_name": "StyleView",
            "_model_name": "DescriptionStyleModel",
            "description_width": "",
            "_view_module": "@jupyter-widgets/base",
            "_model_module_version": "1.5.0",
            "_view_count": null,
            "_view_module_version": "1.2.0",
            "_model_module": "@jupyter-widgets/controls"
          }
        },
        "363dffcab13c49eb96f51acbe80d075b": {
          "model_module": "@jupyter-widgets/base",
          "model_name": "LayoutModel",
          "model_module_version": "1.2.0",
          "state": {
            "_view_name": "LayoutView",
            "grid_template_rows": null,
            "right": null,
            "justify_content": null,
            "_view_module": "@jupyter-widgets/base",
            "overflow": null,
            "_model_module_version": "1.2.0",
            "_view_count": null,
            "flex_flow": null,
            "width": null,
            "min_width": null,
            "border": null,
            "align_items": null,
            "bottom": null,
            "_model_module": "@jupyter-widgets/base",
            "top": null,
            "grid_column": null,
            "overflow_y": null,
            "overflow_x": null,
            "grid_auto_flow": null,
            "grid_area": null,
            "grid_template_columns": null,
            "flex": null,
            "_model_name": "LayoutModel",
            "justify_items": null,
            "grid_row": null,
            "max_height": null,
            "align_content": null,
            "visibility": null,
            "align_self": null,
            "height": null,
            "min_height": null,
            "padding": null,
            "grid_auto_rows": null,
            "grid_gap": null,
            "max_width": null,
            "order": null,
            "_view_module_version": "1.2.0",
            "grid_template_areas": null,
            "object_position": null,
            "object_fit": null,
            "grid_auto_columns": null,
            "margin": null,
            "display": null,
            "left": null
          }
        }
      }
    }
  },
  "cells": [
    {
      "cell_type": "code",
      "metadata": {
        "id": "zX4Kg8DUTKWO"
      },
      "source": [
        "#@title Licensed under the Apache License, Version 2.0 (the \"License\");\n",
        "# you may not use this file except in compliance with the License.\n",
        "# You may obtain a copy of the License at\n",
        "#\n",
        "# https://www.apache.org/licenses/LICENSE-2.0\n",
        "#\n",
        "# Unless required by applicable law or agreed to in writing, software\n",
        "# distributed under the License is distributed on an \"AS IS\" BASIS,\n",
        "# WITHOUT WARRANTIES OR CONDITIONS OF ANY KIND, either express or implied.\n",
        "# See the License for the specific language governing permissions and\n",
        "# limitations under the License."
      ],
      "execution_count": null,
      "outputs": []
    },
    {
      "cell_type": "markdown",
      "metadata": {
        "id": "e7LTWrXvT6LK"
      },
      "source": [
        "**Note:** This notebook can run using TensorFlow 2.5.0"
      ]
    },
    {
      "cell_type": "code",
      "metadata": {
        "id": "I6NpdaKzT6LK"
      },
      "source": [
        "#!pip install tensorflow==2.5.0"
      ],
      "execution_count": 1,
      "outputs": []
    },
    {
      "cell_type": "code",
      "metadata": {
        "id": "P-AhVYeBWgQ3",
        "outputId": "568e0d90-6c8a-4e22-b4b9-ba733bfe9723",
        "colab": {
          "base_uri": "https://localhost:8080/",
          "height": 434,
          "referenced_widgets": [
            "8f5b19aba553490f8d9e14fb315c2076",
            "5cf19997854c420a863348d0fa4eb0aa",
            "f768c38da3c140ea83e5362a68319181",
            "28502b88f7f344189781c1c6328659a6",
            "5959a376e4794d50a57b7f096001b0cd",
            "429c893f3acf474aabff6eddd4581b38",
            "3ef08cb9812b402c8d75a5b94c604584",
            "b054e5f5d2294991bbfa7b2087bd6835",
            "7e250911eaa549498f97658927cd5425",
            "e6d589d2272d4272b4fb5ef182a9aef5",
            "363dffcab13c49eb96f51acbe80d075b"
          ]
        }
      },
      "source": [
        "import tensorflow as tf\n",
        "print(tf.__version__)\n",
        "\n",
        "# !pip install -q tensorflow-datasets\n",
        "\n",
        "import tensorflow_datasets as tfds\n",
        "imdb, info = tfds.load(\"imdb_reviews\", with_info=True, as_supervised=True)\n"
      ],
      "execution_count": 2,
      "outputs": [
        {
          "output_type": "stream",
          "name": "stdout",
          "text": [
            "2.6.0\n",
            "\u001b[1mDownloading and preparing dataset imdb_reviews/plain_text/1.0.0 (download: 80.23 MiB, generated: Unknown size, total: 80.23 MiB) to /root/tensorflow_datasets/imdb_reviews/plain_text/1.0.0...\u001b[0m\n"
          ]
        },
        {
          "output_type": "display_data",
          "data": {
            "application/vnd.jupyter.widget-view+json": {
              "model_id": "8f5b19aba553490f8d9e14fb315c2076",
              "version_minor": 0,
              "version_major": 2
            },
            "text/plain": [
              "Dl Completed...: 0 url [00:00, ? url/s]"
            ]
          },
          "metadata": {}
        },
        {
          "output_type": "display_data",
          "data": {
            "application/vnd.jupyter.widget-view+json": {
              "model_id": "51881604ceff4f0d9d8b039a2b538f20",
              "version_minor": 0,
              "version_major": 2
            },
            "text/plain": [
              "Dl Size...: 0 MiB [00:00, ? MiB/s]"
            ]
          },
          "metadata": {}
        },
        {
          "output_type": "stream",
          "name": "stdout",
          "text": [
            "\n",
            "\n"
          ]
        },
        {
          "output_type": "display_data",
          "data": {
            "application/vnd.jupyter.widget-view+json": {
              "model_id": "bd4c3808247c491b85c7f20194a44db3",
              "version_minor": 0,
              "version_major": 2
            },
            "text/plain": [
              "0 examples [00:00, ? examples/s]"
            ]
          },
          "metadata": {}
        },
        {
          "output_type": "stream",
          "name": "stdout",
          "text": [
            "Shuffling and writing examples to /root/tensorflow_datasets/imdb_reviews/plain_text/1.0.0.incompleteBJ165Y/imdb_reviews-train.tfrecord\n"
          ]
        },
        {
          "output_type": "display_data",
          "data": {
            "application/vnd.jupyter.widget-view+json": {
              "model_id": "22bbbc2e8b33494aa620b876a9d61d79",
              "version_minor": 0,
              "version_major": 2
            },
            "text/plain": [
              "  0%|          | 0/25000 [00:00<?, ? examples/s]"
            ]
          },
          "metadata": {}
        },
        {
          "output_type": "display_data",
          "data": {
            "application/vnd.jupyter.widget-view+json": {
              "model_id": "31390e0b594d4e688269ca82a61eece5",
              "version_minor": 0,
              "version_major": 2
            },
            "text/plain": [
              "0 examples [00:00, ? examples/s]"
            ]
          },
          "metadata": {}
        },
        {
          "output_type": "stream",
          "name": "stdout",
          "text": [
            "Shuffling and writing examples to /root/tensorflow_datasets/imdb_reviews/plain_text/1.0.0.incompleteBJ165Y/imdb_reviews-test.tfrecord\n"
          ]
        },
        {
          "output_type": "display_data",
          "data": {
            "application/vnd.jupyter.widget-view+json": {
              "model_id": "b1135624fc12468ca12e88bca6d5b937",
              "version_minor": 0,
              "version_major": 2
            },
            "text/plain": [
              "  0%|          | 0/25000 [00:00<?, ? examples/s]"
            ]
          },
          "metadata": {}
        },
        {
          "output_type": "display_data",
          "data": {
            "application/vnd.jupyter.widget-view+json": {
              "model_id": "c0bbddfdd6a14609abeb3b2607fb10cc",
              "version_minor": 0,
              "version_major": 2
            },
            "text/plain": [
              "0 examples [00:00, ? examples/s]"
            ]
          },
          "metadata": {}
        },
        {
          "output_type": "stream",
          "name": "stdout",
          "text": [
            "Shuffling and writing examples to /root/tensorflow_datasets/imdb_reviews/plain_text/1.0.0.incompleteBJ165Y/imdb_reviews-unsupervised.tfrecord\n"
          ]
        },
        {
          "output_type": "display_data",
          "data": {
            "application/vnd.jupyter.widget-view+json": {
              "model_id": "b1bc28e7cb114681866ade1a83a7a13f",
              "version_minor": 0,
              "version_major": 2
            },
            "text/plain": [
              "  0%|          | 0/50000 [00:00<?, ? examples/s]"
            ]
          },
          "metadata": {}
        },
        {
          "output_type": "stream",
          "name": "stderr",
          "text": [
            "WARNING:absl:Dataset is using deprecated text encoder API which will be removed soon. Please use the plain_text version of the dataset and migrate to `tensorflow_text`.\n"
          ]
        },
        {
          "output_type": "stream",
          "name": "stdout",
          "text": [
            "\u001b[1mDataset imdb_reviews downloaded and prepared to /root/tensorflow_datasets/imdb_reviews/plain_text/1.0.0. Subsequent calls will reuse this data.\u001b[0m\n"
          ]
        }
      ]
    },
    {
      "cell_type": "code",
      "metadata": {
        "id": "wHQ2Ko0zl7M4"
      },
      "source": [
        "import numpy as np\n",
        "\n",
        "train_data, test_data = imdb['train'], imdb['test']\n",
        "\n",
        "training_sentences = []\n",
        "training_labels = []\n",
        "\n",
        "testing_sentences = []\n",
        "testing_labels = []\n",
        "\n",
        "# str(s.tonumpy()) is needed in Python3 instead of just s.numpy()\n",
        "for s,l in train_data:\n",
        "  training_sentences.append(str(s.numpy()))\n",
        "  training_labels.append(l.numpy())\n",
        "  \n",
        "for s,l in test_data:\n",
        "  testing_sentences.append(str(s.numpy()))\n",
        "  testing_labels.append(l.numpy())\n",
        "  \n",
        "training_labels_final = np.array(training_labels)\n",
        "testing_labels_final = np.array(testing_labels)\n"
      ],
      "execution_count": 3,
      "outputs": []
    },
    {
      "cell_type": "code",
      "metadata": {
        "id": "7n15yyMdmoH1"
      },
      "source": [
        "vocab_size = 10000\n",
        "embedding_dim = 16\n",
        "max_length = 120\n",
        "trunc_type='post'\n",
        "oov_tok = \"<OOV>\"\n",
        "\n",
        "\n",
        "from tensorflow.keras.preprocessing.text import Tokenizer\n",
        "from tensorflow.keras.preprocessing.sequence import pad_sequences\n",
        "\n",
        "tokenizer = Tokenizer(num_words = vocab_size, oov_token=oov_tok)\n",
        "tokenizer.fit_on_texts(training_sentences)\n",
        "word_index = tokenizer.word_index\n",
        "sequences = tokenizer.texts_to_sequences(training_sentences)\n",
        "padded = pad_sequences(sequences,maxlen=max_length, truncating=trunc_type)\n",
        "\n",
        "testing_sequences = tokenizer.texts_to_sequences(testing_sentences)\n",
        "testing_padded = pad_sequences(testing_sequences,maxlen=max_length)\n"
      ],
      "execution_count": 4,
      "outputs": []
    },
    {
      "cell_type": "code",
      "metadata": {
        "id": "9axf0uIXVMhO",
        "outputId": "ed9d4bef-2c09-442f-83cc-fae63f31e72f",
        "colab": {
          "base_uri": "https://localhost:8080/"
        }
      },
      "source": [
        "reverse_word_index = dict([(value, key) for (key, value) in word_index.items()])\n",
        "\n",
        "def decode_review(text):\n",
        "    return ' '.join([reverse_word_index.get(i, '?') for i in text])\n",
        "\n",
        "print(decode_review(padded[1]))\n",
        "print(training_sentences[1])"
      ],
      "execution_count": 5,
      "outputs": [
        {
          "output_type": "stream",
          "name": "stdout",
          "text": [
            "? ? ? ? ? ? ? b'i have been known to fall asleep during films but this is usually due to a combination of things including really tired being warm and comfortable on the <OOV> and having just eaten a lot however on this occasion i fell asleep because the film was rubbish the plot development was constant constantly slow and boring things seemed to happen but with no explanation of what was causing them or why i admit i may have missed part of the film but i watched the majority of it and everything just seemed to happen of its own <OOV> without any real concern for anything else i cant recommend this film at all '\n",
            "b'I have been known to fall asleep during films, but this is usually due to a combination of things including, really tired, being warm and comfortable on the sette and having just eaten a lot. However on this occasion I fell asleep because the film was rubbish. The plot development was constant. Constantly slow and boring. Things seemed to happen, but with no explanation of what was causing them or why. I admit, I may have missed part of the film, but i watched the majority of it and everything just seemed to happen of its own accord without any real concern for anything else. I cant recommend this film at all.'\n"
          ]
        }
      ]
    },
    {
      "cell_type": "code",
      "metadata": {
        "id": "5NEpdhb8AxID",
        "outputId": "aa5adb22-fe1f-4005-8c87-f708a247bf19",
        "colab": {
          "base_uri": "https://localhost:8080/"
        }
      },
      "source": [
        "model = tf.keras.Sequential([\n",
        "    tf.keras.layers.Embedding(vocab_size, embedding_dim, input_length=max_length),\n",
        "    tf.keras.layers.Bidirectional(tf.keras.layers.GRU(32)),\n",
        "    tf.keras.layers.Dense(6, activation='relu'),\n",
        "    tf.keras.layers.Dense(1, activation='sigmoid')\n",
        "])\n",
        "model.compile(loss='binary_crossentropy',optimizer='adam',metrics=['accuracy'])\n",
        "model.summary()\n"
      ],
      "execution_count": 6,
      "outputs": [
        {
          "output_type": "stream",
          "name": "stdout",
          "text": [
            "Model: \"sequential\"\n",
            "_________________________________________________________________\n",
            "Layer (type)                 Output Shape              Param #   \n",
            "=================================================================\n",
            "embedding (Embedding)        (None, 120, 16)           160000    \n",
            "_________________________________________________________________\n",
            "bidirectional (Bidirectional (None, 64)                9600      \n",
            "_________________________________________________________________\n",
            "dense (Dense)                (None, 6)                 390       \n",
            "_________________________________________________________________\n",
            "dense_1 (Dense)              (None, 1)                 7         \n",
            "=================================================================\n",
            "Total params: 169,997\n",
            "Trainable params: 169,997\n",
            "Non-trainable params: 0\n",
            "_________________________________________________________________\n"
          ]
        }
      ]
    },
    {
      "cell_type": "code",
      "metadata": {
        "id": "V5LLrXC-uNX6",
        "outputId": "5cc5557c-ee71-4133-e212-a930638a4693",
        "colab": {
          "base_uri": "https://localhost:8080/"
        }
      },
      "source": [
        "num_epochs = 50\n",
        "history = model.fit(padded, training_labels_final, epochs=num_epochs, validation_data=(testing_padded, testing_labels_final))"
      ],
      "execution_count": 7,
      "outputs": [
        {
          "output_type": "stream",
          "name": "stdout",
          "text": [
            "Epoch 1/50\n",
            "782/782 [==============================] - 54s 59ms/step - loss: 0.5230 - accuracy: 0.7208 - val_loss: 0.3870 - val_accuracy: 0.8256\n",
            "Epoch 2/50\n",
            "782/782 [==============================] - 45s 58ms/step - loss: 0.3109 - accuracy: 0.8722 - val_loss: 0.3588 - val_accuracy: 0.8425\n",
            "Epoch 3/50\n",
            "782/782 [==============================] - 45s 57ms/step - loss: 0.2472 - accuracy: 0.9042 - val_loss: 0.4848 - val_accuracy: 0.8234\n",
            "Epoch 4/50\n",
            "782/782 [==============================] - 45s 57ms/step - loss: 0.1914 - accuracy: 0.9293 - val_loss: 0.4219 - val_accuracy: 0.8318\n",
            "Epoch 5/50\n",
            "782/782 [==============================] - 45s 57ms/step - loss: 0.1386 - accuracy: 0.9498 - val_loss: 0.4763 - val_accuracy: 0.8271\n",
            "Epoch 6/50\n",
            "782/782 [==============================] - 45s 57ms/step - loss: 0.1022 - accuracy: 0.9637 - val_loss: 0.5803 - val_accuracy: 0.8245\n",
            "Epoch 7/50\n",
            "782/782 [==============================] - 45s 57ms/step - loss: 0.0727 - accuracy: 0.9762 - val_loss: 0.6929 - val_accuracy: 0.8165\n",
            "Epoch 8/50\n",
            "782/782 [==============================] - 45s 57ms/step - loss: 0.0541 - accuracy: 0.9820 - val_loss: 0.7413 - val_accuracy: 0.8176\n",
            "Epoch 9/50\n",
            "782/782 [==============================] - 45s 57ms/step - loss: 0.0385 - accuracy: 0.9876 - val_loss: 0.7797 - val_accuracy: 0.8122\n",
            "Epoch 10/50\n",
            "782/782 [==============================] - 45s 57ms/step - loss: 0.0337 - accuracy: 0.9890 - val_loss: 0.8128 - val_accuracy: 0.8073\n",
            "Epoch 11/50\n",
            "782/782 [==============================] - 45s 57ms/step - loss: 0.0217 - accuracy: 0.9931 - val_loss: 0.9390 - val_accuracy: 0.8143\n",
            "Epoch 12/50\n",
            "782/782 [==============================] - 45s 57ms/step - loss: 0.0213 - accuracy: 0.9934 - val_loss: 0.9404 - val_accuracy: 0.8063\n",
            "Epoch 13/50\n",
            "782/782 [==============================] - 45s 57ms/step - loss: 0.0139 - accuracy: 0.9960 - val_loss: 1.0272 - val_accuracy: 0.8047\n",
            "Epoch 14/50\n",
            "782/782 [==============================] - 45s 57ms/step - loss: 0.0150 - accuracy: 0.9950 - val_loss: 1.0631 - val_accuracy: 0.8099\n",
            "Epoch 15/50\n",
            "782/782 [==============================] - 45s 57ms/step - loss: 0.0154 - accuracy: 0.9947 - val_loss: 1.0839 - val_accuracy: 0.8086\n",
            "Epoch 16/50\n",
            "782/782 [==============================] - 45s 57ms/step - loss: 0.0083 - accuracy: 0.9976 - val_loss: 1.1229 - val_accuracy: 0.8058\n",
            "Epoch 17/50\n",
            "782/782 [==============================] - 45s 57ms/step - loss: 0.0028 - accuracy: 0.9994 - val_loss: 1.4367 - val_accuracy: 0.8056\n",
            "Epoch 18/50\n",
            "782/782 [==============================] - 45s 57ms/step - loss: 0.0189 - accuracy: 0.9938 - val_loss: 1.1690 - val_accuracy: 0.8111\n",
            "Epoch 19/50\n",
            "782/782 [==============================] - 45s 57ms/step - loss: 0.0078 - accuracy: 0.9975 - val_loss: 1.3093 - val_accuracy: 0.8079\n",
            "Epoch 20/50\n",
            "782/782 [==============================] - 45s 57ms/step - loss: 0.0097 - accuracy: 0.9968 - val_loss: 1.1766 - val_accuracy: 0.8049\n",
            "Epoch 21/50\n",
            "782/782 [==============================] - 45s 57ms/step - loss: 0.0056 - accuracy: 0.9982 - val_loss: 1.2733 - val_accuracy: 0.8061\n",
            "Epoch 22/50\n",
            "782/782 [==============================] - 45s 58ms/step - loss: 0.0068 - accuracy: 0.9978 - val_loss: 1.3283 - val_accuracy: 0.8091\n",
            "Epoch 23/50\n",
            "782/782 [==============================] - 45s 58ms/step - loss: 0.0074 - accuracy: 0.9972 - val_loss: 1.3534 - val_accuracy: 0.8062\n",
            "Epoch 24/50\n",
            "782/782 [==============================] - 45s 58ms/step - loss: 0.0049 - accuracy: 0.9986 - val_loss: 1.2779 - val_accuracy: 0.8027\n",
            "Epoch 25/50\n",
            "782/782 [==============================] - 45s 58ms/step - loss: 0.0075 - accuracy: 0.9976 - val_loss: 1.3973 - val_accuracy: 0.8056\n",
            "Epoch 26/50\n",
            "782/782 [==============================] - 45s 58ms/step - loss: 0.0055 - accuracy: 0.9982 - val_loss: 1.3887 - val_accuracy: 0.8130\n",
            "Epoch 27/50\n",
            "782/782 [==============================] - 45s 58ms/step - loss: 0.0031 - accuracy: 0.9990 - val_loss: 1.5379 - val_accuracy: 0.8129\n",
            "Epoch 28/50\n",
            "782/782 [==============================] - 45s 58ms/step - loss: 0.0044 - accuracy: 0.9988 - val_loss: 1.5718 - val_accuracy: 0.7924\n",
            "Epoch 29/50\n",
            "782/782 [==============================] - 45s 58ms/step - loss: 0.0036 - accuracy: 0.9988 - val_loss: 1.4761 - val_accuracy: 0.8036\n",
            "Epoch 30/50\n",
            "782/782 [==============================] - 45s 58ms/step - loss: 0.0016 - accuracy: 0.9995 - val_loss: 1.7781 - val_accuracy: 0.7908\n",
            "Epoch 31/50\n",
            "782/782 [==============================] - 45s 58ms/step - loss: 0.0017 - accuracy: 0.9996 - val_loss: 1.6699 - val_accuracy: 0.8075\n",
            "Epoch 32/50\n",
            "782/782 [==============================] - 45s 58ms/step - loss: 0.0028 - accuracy: 0.9991 - val_loss: 1.6144 - val_accuracy: 0.8067\n",
            "Epoch 33/50\n",
            "782/782 [==============================] - 45s 58ms/step - loss: 0.0066 - accuracy: 0.9979 - val_loss: 1.6540 - val_accuracy: 0.8045\n",
            "Epoch 34/50\n",
            "782/782 [==============================] - 45s 58ms/step - loss: 0.0044 - accuracy: 0.9985 - val_loss: 1.5213 - val_accuracy: 0.8115\n",
            "Epoch 35/50\n",
            "782/782 [==============================] - 45s 58ms/step - loss: 0.0037 - accuracy: 0.9989 - val_loss: 1.5177 - val_accuracy: 0.8101\n",
            "Epoch 36/50\n",
            "782/782 [==============================] - 45s 58ms/step - loss: 0.0031 - accuracy: 0.9988 - val_loss: 1.5568 - val_accuracy: 0.8096\n",
            "Epoch 37/50\n",
            "782/782 [==============================] - 45s 58ms/step - loss: 6.8934e-04 - accuracy: 0.9998 - val_loss: 1.5972 - val_accuracy: 0.8104\n",
            "Epoch 38/50\n",
            "782/782 [==============================] - 45s 58ms/step - loss: 0.0040 - accuracy: 0.9985 - val_loss: 1.5480 - val_accuracy: 0.8052\n",
            "Epoch 39/50\n",
            "782/782 [==============================] - 45s 58ms/step - loss: 3.0470e-04 - accuracy: 1.0000 - val_loss: 1.6660 - val_accuracy: 0.8075\n",
            "Epoch 40/50\n",
            "782/782 [==============================] - 45s 58ms/step - loss: 2.6837e-05 - accuracy: 1.0000 - val_loss: 1.7152 - val_accuracy: 0.8080\n",
            "Epoch 41/50\n",
            "782/782 [==============================] - 45s 58ms/step - loss: 1.6220e-05 - accuracy: 1.0000 - val_loss: 1.7548 - val_accuracy: 0.8084\n",
            "Epoch 42/50\n",
            "782/782 [==============================] - 45s 58ms/step - loss: 1.1472e-05 - accuracy: 1.0000 - val_loss: 1.7985 - val_accuracy: 0.8084\n",
            "Epoch 43/50\n",
            "782/782 [==============================] - 45s 58ms/step - loss: 8.1346e-06 - accuracy: 1.0000 - val_loss: 1.8438 - val_accuracy: 0.8083\n",
            "Epoch 44/50\n",
            "782/782 [==============================] - 45s 58ms/step - loss: 5.7451e-06 - accuracy: 1.0000 - val_loss: 1.8957 - val_accuracy: 0.8086\n",
            "Epoch 45/50\n",
            "782/782 [==============================] - 45s 58ms/step - loss: 4.0125e-06 - accuracy: 1.0000 - val_loss: 1.9465 - val_accuracy: 0.8088\n",
            "Epoch 46/50\n",
            "782/782 [==============================] - 45s 58ms/step - loss: 2.7721e-06 - accuracy: 1.0000 - val_loss: 2.0015 - val_accuracy: 0.8091\n",
            "Epoch 47/50\n",
            "782/782 [==============================] - 45s 58ms/step - loss: 1.9039e-06 - accuracy: 1.0000 - val_loss: 2.0576 - val_accuracy: 0.8096\n",
            "Epoch 48/50\n",
            "782/782 [==============================] - 45s 58ms/step - loss: 1.2909e-06 - accuracy: 1.0000 - val_loss: 2.1173 - val_accuracy: 0.8100\n",
            "Epoch 49/50\n",
            "782/782 [==============================] - 45s 58ms/step - loss: 8.7152e-07 - accuracy: 1.0000 - val_loss: 2.1776 - val_accuracy: 0.8097\n",
            "Epoch 50/50\n",
            "782/782 [==============================] - 45s 58ms/step - loss: 5.8606e-07 - accuracy: 1.0000 - val_loss: 2.2404 - val_accuracy: 0.8090\n"
          ]
        }
      ]
    },
    {
      "cell_type": "code",
      "metadata": {
        "id": "nHGYuU4jPYaj",
        "outputId": "26aa6036-5652-482c-a2cf-4cebd7449479",
        "colab": {
          "base_uri": "https://localhost:8080/",
          "height": 541
        }
      },
      "source": [
        "import matplotlib.pyplot as plt\n",
        "\n",
        "\n",
        "def plot_graphs(history, string):\n",
        "  plt.plot(history.history[string])\n",
        "  plt.plot(history.history['val_'+string])\n",
        "  plt.xlabel(\"Epochs\")\n",
        "  plt.ylabel(string)\n",
        "  plt.legend([string, 'val_'+string])\n",
        "  plt.show()\n",
        "\n",
        "plot_graphs(history, 'accuracy')\n",
        "plot_graphs(history, 'loss')"
      ],
      "execution_count": 8,
      "outputs": [
        {
          "output_type": "display_data",
          "data": {
            "image/png": "[encoded data removed]",
            "text/plain": [
              "<Figure size 432x288 with 1 Axes>"
            ]
          },
          "metadata": {
            "needs_background": "light"
          }
        },
        {
          "output_type": "display_data",
          "data": {
            "image/png": "[encoded data removed]",
            "text/plain": [
              "<Figure size 432x288 with 1 Axes>"
            ]
          },
          "metadata": {
            "needs_background": "light"
          }
        }
      ]
    },
    {
      "cell_type": "code",
      "metadata": {
        "id": "wSualgGPPK0S",
        "outputId": "f56bc735-b65b-40b7-cef2-f9f10e00aa5f",
        "colab": {
          "base_uri": "https://localhost:8080/"
        }
      },
      "source": [
        "# Model Definition with LSTM\n",
        "model = tf.keras.Sequential([\n",
        "    tf.keras.layers.Embedding(vocab_size, embedding_dim, input_length=max_length),\n",
        "    tf.keras.layers.Bidirectional(tf.keras.layers.LSTM(32)),\n",
        "    tf.keras.layers.Dense(6, activation='relu'),\n",
        "    tf.keras.layers.Dense(1, activation='sigmoid')\n",
        "])\n",
        "model.compile(loss='binary_crossentropy',optimizer='adam',metrics=['accuracy'])\n",
        "model.summary()\n"
      ],
      "execution_count": 9,
      "outputs": [
        {
          "output_type": "stream",
          "name": "stdout",
          "text": [
            "Model: \"sequential_1\"\n",
            "_________________________________________________________________\n",
            "Layer (type)                 Output Shape              Param #   \n",
            "=================================================================\n",
            "embedding_1 (Embedding)      (None, 120, 16)           160000    \n",
            "_________________________________________________________________\n",
            "bidirectional_1 (Bidirection (None, 64)                12544     \n",
            "_________________________________________________________________\n",
            "dense_2 (Dense)              (None, 6)                 390       \n",
            "_________________________________________________________________\n",
            "dense_3 (Dense)              (None, 1)                 7         \n",
            "=================================================================\n",
            "Total params: 172,941\n",
            "Trainable params: 172,941\n",
            "Non-trainable params: 0\n",
            "_________________________________________________________________\n"
          ]
        }
      ]
    },
    {
      "cell_type": "code",
      "metadata": {
        "id": "K_Jc7cY3Qxke",
        "outputId": "fa366e21-67f5-4ab5-eb58-61764be1a03f",
        "colab": {
          "base_uri": "https://localhost:8080/"
        }
      },
      "source": [
        "# Model Definition with Conv1D\n",
        "model = tf.keras.Sequential([\n",
        "    tf.keras.layers.Embedding(vocab_size, embedding_dim, input_length=max_length),\n",
        "    tf.keras.layers.Conv1D(128, 5, activation='relu'),\n",
        "    tf.keras.layers.GlobalAveragePooling1D(),\n",
        "    tf.keras.layers.Dense(6, activation='relu'),\n",
        "    tf.keras.layers.Dense(1, activation='sigmoid')\n",
        "])\n",
        "model.compile(loss='binary_crossentropy',optimizer='adam',metrics=['accuracy'])\n",
        "model.summary()\n"
      ],
      "execution_count": 10,
      "outputs": [
        {
          "output_type": "stream",
          "name": "stdout",
          "text": [
            "Model: \"sequential_2\"\n",
            "_________________________________________________________________\n",
            "Layer (type)                 Output Shape              Param #   \n",
            "=================================================================\n",
            "embedding_2 (Embedding)      (None, 120, 16)           160000    \n",
            "_________________________________________________________________\n",
            "conv1d (Conv1D)              (None, 116, 128)          10368     \n",
            "_________________________________________________________________\n",
            "global_average_pooling1d (Gl (None, 128)               0         \n",
            "_________________________________________________________________\n",
            "dense_4 (Dense)              (None, 6)                 774       \n",
            "_________________________________________________________________\n",
            "dense_5 (Dense)              (None, 1)                 7         \n",
            "=================================================================\n",
            "Total params: 171,149\n",
            "Trainable params: 171,149\n",
            "Non-trainable params: 0\n",
            "_________________________________________________________________\n"
          ]
        }
      ]
    },
    {
      "cell_type": "code",
      "metadata": {
        "id": "koJiTDd4jOuf"
      },
      "source": [
        ""
      ],
      "execution_count": 10,
      "outputs": []
    }
  ]
}