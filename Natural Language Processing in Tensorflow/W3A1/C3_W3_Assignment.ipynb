{
  "nbformat": 4,
  "nbformat_minor": 0,
  "metadata": {
    "accelerator": "GPU",
    "colab": {
      "name": "C3_W3_Assignment.ipynb",
      "provenance": []
    },
    "kernelspec": {
      "display_name": "Python 3",
      "language": "python",
      "name": "python3"
    },
    "language_info": {
      "codemirror_mode": {
        "name": "ipython",
        "version": 3
      },
      "file_extension": ".py",
      "mimetype": "text/x-python",
      "name": "python",
      "nbconvert_exporter": "python",
      "pygments_lexer": "ipython3",
      "version": "3.8.5"
    }
  },
  "cells": [
    {
      "cell_type": "code",
      "metadata": {
        "id": "zX4Kg8DUTKWO"
      },
      "source": [
        "#@title Licensed under the Apache License, Version 2.0 (the \"License\");\n",
        "# you may not use this file except in compliance with the License.\n",
        "# You may obtain a copy of the License at\n",
        "#\n",
        "# https://www.apache.org/licenses/LICENSE-2.0\n",
        "#\n",
        "# Unless required by applicable law or agreed to in writing, software\n",
        "# distributed under the License is distributed on an \"AS IS\" BASIS,\n",
        "# WITHOUT WARRANTIES OR CONDITIONS OF ANY KIND, either express or implied.\n",
        "# See the License for the specific language governing permissions and\n",
        "# limitations under the License."
      ],
      "execution_count": null,
      "outputs": []
    },
    {
      "cell_type": "markdown",
      "metadata": {
        "id": "gnU1TV9kV5f9"
      },
      "source": [
        "**Note:** This notebook can run using TensorFlow 2.5.0"
      ]
    },
    {
      "cell_type": "code",
      "metadata": {
        "id": "qTZDRvo5V5f9"
      },
      "source": [
        "#!pip install tensorflow==2.5.0"
      ],
      "execution_count": 1,
      "outputs": []
    },
    {
      "cell_type": "code",
      "metadata": {
        "id": "hmA6EzkQJ5jt"
      },
      "source": [
        "import json\n",
        "import tensorflow as tf\n",
        "import csv\n",
        "import random\n",
        "import numpy as np\n",
        "\n",
        "from tensorflow.keras.preprocessing.text import Tokenizer\n",
        "from tensorflow.keras.preprocessing.sequence import pad_sequences\n",
        "from tensorflow.keras.utils import to_categorical\n",
        "from tensorflow.keras import regularizers\n",
        "\n",
        "\n",
        "embedding_dim = 100\n",
        "max_length = 16\n",
        "trunc_type='post'\n",
        "padding_type='post'\n",
        "oov_tok = \"<OOV>\"\n",
        "training_size= 160000 #Your dataset size here. Experiment using smaller values (i.e. 16000), but don't forget to train on at least 160000 to see the best effects\n",
        "test_portion=.1\n",
        "\n",
        "corpus = []\n"
      ],
      "execution_count": 13,
      "outputs": []
    },
    {
      "cell_type": "code",
      "metadata": {
        "id": "bM0l_dORKqE0",
        "outputId": "1bf30ede-b193-4197-a535-88510ef6044b",
        "colab": {
          "base_uri": "https://localhost:8080/"
        }
      },
      "source": [
        "# Note that I cleaned the Stanford dataset to remove LATIN1 encoding to make it easier for Python CSV reader\n",
        "# You can do that yourself with:\n",
        "# iconv -f LATIN1 -t UTF8 training.1600000.processed.noemoticon.csv -o training_cleaned.csv\n",
        "\n",
        "# training_cleaned.csv\n",
        "!gdown --id 1wd8KaeCSHxt-nEpMeuHFSNWrDp8joUXJ\n",
        "\n",
        "num_sentences = 0\n",
        "\n",
        "with open(\"./training_cleaned.csv\") as csvfile:\n",
        "    reader = csv.reader(csvfile, delimiter=',')\n",
        "    for row in reader:\n",
        "        list_item=[]\n",
        "        \n",
        "        ### START CODE HERE\n",
        "        #Create list items where the first item is the text, found in row[5], and the second is the label. Note that the label is a '0' or a '4' in the text. When it's the former, make\n",
        "        # your label to be 0, otherwise 1. Keep a count of the number of sentences in num_sentences\n",
        "        list_item.append(row[5])\n",
        "        this_label = row[0]\n",
        "        if this_label == 0:\n",
        "          list_item.append(0)\n",
        "        else:\n",
        "          list_item.append(1)\n",
        "        ### END CODE HERE\n",
        "        \n",
        "        num_sentences = num_sentences + 1\n",
        "        corpus.append(list_item)\n"
      ],
      "execution_count": 14,
      "outputs": [
        {
          "output_type": "stream",
          "name": "stdout",
          "text": [
            "Downloading...\n",
            "From: https://drive.google.com/uc?id=1wd8KaeCSHxt-nEpMeuHFSNWrDp8joUXJ\n",
            "To: /content/training_cleaned.csv\n",
            "100% 239M/239M [00:01<00:00, 126MB/s]\n"
          ]
        }
      ]
    },
    {
      "cell_type": "code",
      "metadata": {
        "id": "3kxblBUjEUX-",
        "outputId": "5fce3f9f-cbfd-41c2-b032-a8cb9500d42d",
        "colab": {
          "base_uri": "https://localhost:8080/"
        }
      },
      "source": [
        "print(num_sentences)\n",
        "print(len(corpus))\n",
        "print(corpus[1])\n",
        "\n",
        "# Expected Output:\n",
        "# 1600000\n",
        "# 1600000\n",
        "# [\"is upset that he can't update his Facebook by texting it... and might cry as a result  School today also. Blah!\", 0]"
      ],
      "execution_count": 15,
      "outputs": [
        {
          "output_type": "stream",
          "name": "stdout",
          "text": [
            "1600000\n",
            "1600000\n",
            "[\"is upset that he can't update his Facebook by texting it... and might cry as a result  School today also. Blah!\", 1]\n"
          ]
        }
      ]
    },
    {
      "cell_type": "code",
      "metadata": {
        "id": "ohOGz24lsNAD"
      },
      "source": [
        "sentences=[]\n",
        "labels=[]\n",
        "random.shuffle(corpus)\n",
        "for x in range(training_size):\n",
        "    sentences.append(corpus[x][0])\n",
        "    labels.append(corpus[x][1])\n",
        "\n",
        "\n",
        "tokenizer = Tokenizer()\n",
        "tokenizer.fit_on_texts(sentences)\n",
        "\n",
        "word_index = tokenizer.word_index\n",
        "vocab_size=len(word_index)\n",
        "\n",
        "sequences = tokenizer.texts_to_sequences(sentences)\n",
        "padded = pad_sequences(sequences, maxlen=max_length, padding=padding_type, truncating=trunc_type)\n",
        "\n",
        "split = int(test_portion * training_size)\n",
        "\n",
        "test_sequences = padded[:split]\n",
        "training_sequences = padded[split:]\n",
        "test_labels = labels[:split]\n",
        "training_labels = labels[split:]"
      ],
      "execution_count": 18,
      "outputs": []
    },
    {
      "cell_type": "code",
      "metadata": {
        "id": "gIrtRem1En3N",
        "outputId": "35e785ac-c798-4e0a-91be-2002ce9c9261",
        "colab": {
          "base_uri": "https://localhost:8080/"
        }
      },
      "source": [
        "print(vocab_size)\n",
        "print(word_index['i'])\n",
        "# Expected Output\n",
        "# 138856\n",
        "# 1"
      ],
      "execution_count": 19,
      "outputs": [
        {
          "output_type": "stream",
          "name": "stdout",
          "text": [
            "138416\n",
            "1\n"
          ]
        }
      ]
    },
    {
      "cell_type": "code",
      "metadata": {
        "id": "C1zdgJkusRh0",
        "outputId": "fd6a7093-d444-44c4-c673-4b5cb3c1e7a4",
        "colab": {
          "base_uri": "https://localhost:8080/"
        }
      },
      "source": [
        "# Note this is the 100 dimension version of GloVe from Stanford\n",
        "\n",
        "# glove.6B.100d.txt\n",
        "!gdown --id 1W5vZy2etitAblLdFn8_DxnsQKzfFJ98g\n",
        "\n",
        "embeddings_index = {};\n",
        "with open('./glove.6B.100d.txt') as f:\n",
        "    for line in f:\n",
        "        values = line.split();\n",
        "        word = values[0];\n",
        "        coefs = np.asarray(values[1:], dtype='float32');\n",
        "        embeddings_index[word] = coefs;\n",
        "\n",
        "embeddings_matrix = np.zeros((vocab_size+1, embedding_dim));\n",
        "for word, i in word_index.items():\n",
        "    embedding_vector = embeddings_index.get(word);\n",
        "    if embedding_vector is not None:\n",
        "        embeddings_matrix[i] = embedding_vector;"
      ],
      "execution_count": 20,
      "outputs": [
        {
          "output_type": "stream",
          "name": "stdout",
          "text": [
            "Downloading...\n",
            "From: https://drive.google.com/uc?id=1W5vZy2etitAblLdFn8_DxnsQKzfFJ98g\n",
            "To: /content/glove.6B.100d.txt\n",
            "100% 347M/347M [00:04<00:00, 82.8MB/s]\n"
          ]
        }
      ]
    },
    {
      "cell_type": "code",
      "metadata": {
        "id": "71NLk_lpFLNt",
        "outputId": "0dd8ef9b-2232-41bf-814c-068023945a0b",
        "colab": {
          "base_uri": "https://localhost:8080/"
        }
      },
      "source": [
        "print(len(embeddings_matrix))\n",
        "# Expected Output\n",
        "# 138857"
      ],
      "execution_count": 21,
      "outputs": [
        {
          "output_type": "stream",
          "name": "stdout",
          "text": [
            "138417\n"
          ]
        }
      ]
    },
    {
      "cell_type": "code",
      "metadata": {
        "id": "iKKvbuEBOGFz",
        "outputId": "bac19d85-e0c8-46f6-a477-b7757e0cea54",
        "colab": {
          "base_uri": "https://localhost:8080/"
        }
      },
      "source": [
        "model = tf.keras.Sequential([\n",
        "    tf.keras.layers.Embedding(vocab_size+1, embedding_dim, input_length=max_length, weights=[embeddings_matrix], trainable=False),\n",
        "    # YOUR CODE HERE - experiment with combining different types, such as convolutions and LSTMs\n",
        "    tf.keras.layers.Dropout(0.1),\n",
        "    tf.keras.layers.Conv1D(64, 5, activation='relu'),\n",
        "    tf.keras.layers.MaxPool1D(4),\n",
        "    tf.keras.layers.LSTM(64),\n",
        "    tf.keras.layers.Dense(1, activation='sigmoid')\n",
        "])\n",
        "model.compile(loss='binary_crossentropy', optimizer='adam', metrics=['acc'])\n",
        "model.summary()\n",
        "\n",
        "num_epochs = 50\n",
        "\n",
        "training_padded = np.array(training_sequences)\n",
        "training_labels = np.array(training_labels)\n",
        "testing_padded = np.array(test_sequences)\n",
        "testing_labels = np.array(test_labels)\n",
        "\n",
        "history = model.fit(training_padded, training_labels, epochs=num_epochs, validation_data=(testing_padded, testing_labels), verbose=2)\n",
        "\n",
        "print(\"Training Complete\")\n"
      ],
      "execution_count": 24,
      "outputs": [
        {
          "output_type": "stream",
          "name": "stdout",
          "text": [
            "Model: \"sequential_2\"\n",
            "_________________________________________________________________\n",
            "Layer (type)                 Output Shape              Param #   \n",
            "=================================================================\n",
            "embedding_2 (Embedding)      (None, 16, 100)           13841700  \n",
            "_________________________________________________________________\n",
            "dropout_2 (Dropout)          (None, 16, 100)           0         \n",
            "_________________________________________________________________\n",
            "conv1d_2 (Conv1D)            (None, 12, 64)            32064     \n",
            "_________________________________________________________________\n",
            "max_pooling1d_2 (MaxPooling1 (None, 3, 64)             0         \n",
            "_________________________________________________________________\n",
            "lstm_2 (LSTM)                (None, 64)                33024     \n",
            "_________________________________________________________________\n",
            "dense_2 (Dense)              (None, 1)                 65        \n",
            "=================================================================\n",
            "Total params: 13,906,853\n",
            "Trainable params: 65,153\n",
            "Non-trainable params: 13,841,700\n",
            "_________________________________________________________________\n",
            "Epoch 1/50\n",
            "4500/4500 - 20s - loss: 9.8622e-04 - acc: 0.9998 - val_loss: 1.9672e-06 - val_acc: 1.0000\n",
            "Epoch 2/50\n",
            "4500/4500 - 17s - loss: 8.1355e-07 - acc: 1.0000 - val_loss: 2.4855e-07 - val_acc: 1.0000\n",
            "Epoch 3/50\n",
            "4500/4500 - 18s - loss: 1.0196e-07 - acc: 1.0000 - val_loss: 2.9422e-08 - val_acc: 1.0000\n",
            "Epoch 4/50\n",
            "4500/4500 - 18s - loss: 2.1803e-08 - acc: 1.0000 - val_loss: 1.6381e-08 - val_acc: 1.0000\n",
            "Epoch 5/50\n",
            "4500/4500 - 18s - loss: 1.1999e-08 - acc: 1.0000 - val_loss: 8.2545e-09 - val_acc: 1.0000\n",
            "Epoch 6/50\n",
            "4500/4500 - 17s - loss: 6.4104e-09 - acc: 1.0000 - val_loss: 4.8872e-09 - val_acc: 1.0000\n",
            "Epoch 7/50\n",
            "4500/4500 - 18s - loss: 3.7923e-09 - acc: 1.0000 - val_loss: 3.0438e-09 - val_acc: 1.0000\n",
            "Epoch 8/50\n",
            "4500/4500 - 17s - loss: 3.0283e-09 - acc: 1.0000 - val_loss: 3.0438e-09 - val_acc: 1.0000\n",
            "Epoch 9/50\n",
            "4500/4500 - 17s - loss: 3.0283e-09 - acc: 1.0000 - val_loss: 3.0438e-09 - val_acc: 1.0000\n",
            "Epoch 10/50\n",
            "4500/4500 - 17s - loss: 3.0283e-09 - acc: 1.0000 - val_loss: 3.0438e-09 - val_acc: 1.0000\n",
            "Epoch 11/50\n",
            "4500/4500 - 17s - loss: 3.0285e-09 - acc: 1.0000 - val_loss: 3.0438e-09 - val_acc: 1.0000\n",
            "Epoch 12/50\n",
            "4500/4500 - 17s - loss: 3.0284e-09 - acc: 1.0000 - val_loss: 3.0438e-09 - val_acc: 1.0000\n",
            "Epoch 13/50\n",
            "4500/4500 - 17s - loss: 3.0282e-09 - acc: 1.0000 - val_loss: 3.0438e-09 - val_acc: 1.0000\n",
            "Epoch 14/50\n",
            "4500/4500 - 17s - loss: 3.0282e-09 - acc: 1.0000 - val_loss: 3.0438e-09 - val_acc: 1.0000\n",
            "Epoch 15/50\n",
            "4500/4500 - 17s - loss: 3.0282e-09 - acc: 1.0000 - val_loss: 3.0438e-09 - val_acc: 1.0000\n",
            "Epoch 16/50\n",
            "4500/4500 - 17s - loss: 3.0286e-09 - acc: 1.0000 - val_loss: 3.0438e-09 - val_acc: 1.0000\n",
            "Epoch 17/50\n",
            "4500/4500 - 17s - loss: 3.0285e-09 - acc: 1.0000 - val_loss: 3.0438e-09 - val_acc: 1.0000\n",
            "Epoch 18/50\n",
            "4500/4500 - 18s - loss: 3.0284e-09 - acc: 1.0000 - val_loss: 3.0438e-09 - val_acc: 1.0000\n",
            "Epoch 19/50\n",
            "4500/4500 - 17s - loss: 3.0283e-09 - acc: 1.0000 - val_loss: 3.0438e-09 - val_acc: 1.0000\n",
            "Epoch 20/50\n",
            "4500/4500 - 17s - loss: 3.0284e-09 - acc: 1.0000 - val_loss: 3.0438e-09 - val_acc: 1.0000\n",
            "Epoch 21/50\n",
            "4500/4500 - 18s - loss: 3.0283e-09 - acc: 1.0000 - val_loss: 3.0438e-09 - val_acc: 1.0000\n",
            "Epoch 22/50\n",
            "4500/4500 - 18s - loss: 3.0284e-09 - acc: 1.0000 - val_loss: 3.0438e-09 - val_acc: 1.0000\n",
            "Epoch 23/50\n",
            "4500/4500 - 17s - loss: 3.0284e-09 - acc: 1.0000 - val_loss: 3.0438e-09 - val_acc: 1.0000\n",
            "Epoch 24/50\n",
            "4500/4500 - 18s - loss: 3.0282e-09 - acc: 1.0000 - val_loss: 3.0438e-09 - val_acc: 1.0000\n",
            "Epoch 25/50\n",
            "4500/4500 - 18s - loss: 3.0282e-09 - acc: 1.0000 - val_loss: 3.0438e-09 - val_acc: 1.0000\n",
            "Epoch 26/50\n",
            "4500/4500 - 18s - loss: 3.0286e-09 - acc: 1.0000 - val_loss: 3.0438e-09 - val_acc: 1.0000\n",
            "Epoch 27/50\n",
            "4500/4500 - 18s - loss: 3.0282e-09 - acc: 1.0000 - val_loss: 3.0438e-09 - val_acc: 1.0000\n",
            "Epoch 28/50\n",
            "4500/4500 - 19s - loss: 3.0283e-09 - acc: 1.0000 - val_loss: 3.0438e-09 - val_acc: 1.0000\n",
            "Epoch 29/50\n",
            "4500/4500 - 18s - loss: 3.0283e-09 - acc: 1.0000 - val_loss: 3.0438e-09 - val_acc: 1.0000\n",
            "Epoch 30/50\n",
            "4500/4500 - 18s - loss: 3.0285e-09 - acc: 1.0000 - val_loss: 3.0438e-09 - val_acc: 1.0000\n",
            "Epoch 31/50\n",
            "4500/4500 - 18s - loss: 3.0283e-09 - acc: 1.0000 - val_loss: 3.0438e-09 - val_acc: 1.0000\n",
            "Epoch 32/50\n",
            "4500/4500 - 18s - loss: 3.0281e-09 - acc: 1.0000 - val_loss: 3.0438e-09 - val_acc: 1.0000\n",
            "Epoch 33/50\n",
            "4500/4500 - 18s - loss: 3.0283e-09 - acc: 1.0000 - val_loss: 3.0438e-09 - val_acc: 1.0000\n",
            "Epoch 34/50\n",
            "4500/4500 - 18s - loss: 3.0283e-09 - acc: 1.0000 - val_loss: 3.0438e-09 - val_acc: 1.0000\n",
            "Epoch 35/50\n",
            "4500/4500 - 18s - loss: 3.0284e-09 - acc: 1.0000 - val_loss: 3.0438e-09 - val_acc: 1.0000\n",
            "Epoch 36/50\n",
            "4500/4500 - 18s - loss: 3.0285e-09 - acc: 1.0000 - val_loss: 3.0438e-09 - val_acc: 1.0000\n",
            "Epoch 37/50\n",
            "4500/4500 - 18s - loss: 3.0283e-09 - acc: 1.0000 - val_loss: 3.0438e-09 - val_acc: 1.0000\n",
            "Epoch 38/50\n",
            "4500/4500 - 19s - loss: 3.0284e-09 - acc: 1.0000 - val_loss: 3.0438e-09 - val_acc: 1.0000\n",
            "Epoch 39/50\n",
            "4500/4500 - 19s - loss: 3.0282e-09 - acc: 1.0000 - val_loss: 3.0438e-09 - val_acc: 1.0000\n",
            "Epoch 40/50\n",
            "4500/4500 - 19s - loss: 3.0283e-09 - acc: 1.0000 - val_loss: 3.0438e-09 - val_acc: 1.0000\n",
            "Epoch 41/50\n",
            "4500/4500 - 19s - loss: 3.0283e-09 - acc: 1.0000 - val_loss: 3.0438e-09 - val_acc: 1.0000\n",
            "Epoch 42/50\n",
            "4500/4500 - 19s - loss: 3.0284e-09 - acc: 1.0000 - val_loss: 3.0438e-09 - val_acc: 1.0000\n",
            "Epoch 43/50\n",
            "4500/4500 - 19s - loss: 3.0285e-09 - acc: 1.0000 - val_loss: 3.0438e-09 - val_acc: 1.0000\n",
            "Epoch 44/50\n",
            "4500/4500 - 19s - loss: 3.0284e-09 - acc: 1.0000 - val_loss: 3.0438e-09 - val_acc: 1.0000\n",
            "Epoch 45/50\n",
            "4500/4500 - 19s - loss: 3.0283e-09 - acc: 1.0000 - val_loss: 3.0438e-09 - val_acc: 1.0000\n",
            "Epoch 46/50\n",
            "4500/4500 - 18s - loss: 3.0284e-09 - acc: 1.0000 - val_loss: 3.0438e-09 - val_acc: 1.0000\n",
            "Epoch 47/50\n",
            "4500/4500 - 18s - loss: 3.0284e-09 - acc: 1.0000 - val_loss: 3.0438e-09 - val_acc: 1.0000\n",
            "Epoch 48/50\n",
            "4500/4500 - 18s - loss: 3.0283e-09 - acc: 1.0000 - val_loss: 3.0438e-09 - val_acc: 1.0000\n",
            "Epoch 49/50\n",
            "4500/4500 - 18s - loss: 3.0283e-09 - acc: 1.0000 - val_loss: 3.0438e-09 - val_acc: 1.0000\n",
            "Epoch 50/50\n",
            "4500/4500 - 18s - loss: 3.0285e-09 - acc: 1.0000 - val_loss: 3.0438e-09 - val_acc: 1.0000\n",
            "Training Complete\n"
          ]
        }
      ]
    },
    {
      "cell_type": "code",
      "metadata": {
        "id": "qxju4ItJKO8F",
        "outputId": "cb67834e-04ea-40a6-eb9f-c003f24cde8a",
        "colab": {
          "base_uri": "https://localhost:8080/",
          "height": 607
        }
      },
      "source": [
        "import matplotlib.image  as mpimg\n",
        "import matplotlib.pyplot as plt\n",
        "\n",
        "#-----------------------------------------------------------\n",
        "# Retrieve a list of list results on training and test data\n",
        "# sets for each training epoch\n",
        "#-----------------------------------------------------------\n",
        "acc=history.history['acc']\n",
        "val_acc=history.history['val_acc']\n",
        "loss=history.history['loss']\n",
        "val_loss=history.history['val_loss']\n",
        "\n",
        "epochs=range(len(acc)) # Get number of epochs\n",
        "\n",
        "#------------------------------------------------\n",
        "# Plot training and validation accuracy per epoch\n",
        "#------------------------------------------------\n",
        "plt.plot(epochs, acc, 'r')\n",
        "plt.plot(epochs, val_acc, 'b')\n",
        "plt.title('Training and validation accuracy')\n",
        "plt.xlabel(\"Epochs\")\n",
        "plt.ylabel(\"Accuracy\")\n",
        "plt.legend([\"Accuracy\", \"Validation Accuracy\"])\n",
        "\n",
        "plt.figure()\n",
        "\n",
        "#------------------------------------------------\n",
        "# Plot training and validation loss per epoch\n",
        "#------------------------------------------------\n",
        "plt.plot(epochs, loss, 'r')\n",
        "plt.plot(epochs, val_loss, 'b')\n",
        "plt.title('Training and validation loss')\n",
        "plt.xlabel(\"Epochs\")\n",
        "plt.ylabel(\"Loss\")\n",
        "plt.legend([\"Loss\", \"Validation Loss\"])\n",
        "\n",
        "plt.figure()\n",
        "\n",
        "\n",
        "# Expected Output\n",
        "# A chart where the validation loss does not increase sharply!"
      ],
      "execution_count": 25,
      "outputs": [
        {
          "output_type": "execute_result",
          "data": {
            "text/plain": [
              "<Figure size 432x288 with 0 Axes>"
            ]
          },
          "metadata": {},
          "execution_count": 25
        },
        {
          "output_type": "display_data",
          "data": {
            "image/png": "[encoded data removed]",
            "text/plain": [
              "<Figure size 432x288 with 1 Axes>"
            ]
          },
          "metadata": {
            "needs_background": "light"
          }
        },
        {
          "output_type": "display_data",
          "data": {
            "image/png": "[encoded data removed]",
            "text/plain": [
              "<Figure size 432x288 with 1 Axes>"
            ]
          },
          "metadata": {
            "needs_background": "light"
          }
        },
        {
          "output_type": "display_data",
          "data": {
            "text/plain": [
              "<Figure size 432x288 with 0 Axes>"
            ]
          },
          "metadata": {}
        }
      ]
    },
    {
      "cell_type": "code",
      "metadata": {
        "id": "hLa_HKWVwwNV"
      },
      "source": [
        ""
      ],
      "execution_count": null,
      "outputs": []
    }
  ]
}